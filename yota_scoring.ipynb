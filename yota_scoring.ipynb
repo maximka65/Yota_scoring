{
  "cells": [
    {
      "cell_type": "markdown",
      "id": "3b6c22a0",
      "metadata": {
        "id": "3b6c22a0"
      },
      "source": [
        "### Задача кредитного скоринга\n",
        "\n",
        "В рамках услуги ОП (оплати позже) клиенты могут взять в долг у компании, когда им необходимо оплатить пакет, а возможности пополнить счет нет. Услуга выдается на 7 дней, после чего необходимо вернуть денежные средства на счет. В тестовом датасете представлены данные, описывающие поведение клиентов после взятия ОП (вернул/не вернул). Необходимо построить скоринговую модель, которая на основании признаков клиента, прогнозирует, выдавать ли ему кредит или нет."
      ]
    },
    {
      "cell_type": "code",
      "execution_count": null,
      "id": "73b393a4",
      "metadata": {
        "id": "73b393a4"
      },
      "outputs": [],
      "source": [
        "import pandas as pd\n",
        "import numpy as np\n",
        "import matplotlib.pyplot as plt\n",
        "import seaborn as sns\n",
        "import warnings\n",
        "warnings.filterwarnings('ignore')"
      ]
    },
    {
      "cell_type": "code",
      "execution_count": null,
      "id": "a35ab532",
      "metadata": {
        "id": "a35ab532"
      },
      "outputs": [],
      "source": [
        "data = pd.read_pickle('data.pickle')"
      ]
    },
    {
      "cell_type": "code",
      "execution_count": null,
      "id": "c44f962a",
      "metadata": {
        "id": "c44f962a",
        "outputId": "1377f4a1-5012-4631-cc13-4e8226323bc3"
      },
      "outputs": [
        {
          "data": {
            "text/html": [
              "<div>\n",
              "<style scoped>\n",
              "    .dataframe tbody tr th:only-of-type {\n",
              "        vertical-align: middle;\n",
              "    }\n",
              "\n",
              "    .dataframe tbody tr th {\n",
              "        vertical-align: top;\n",
              "    }\n",
              "\n",
              "    .dataframe thead th {\n",
              "        text-align: right;\n",
              "    }\n",
              "</style>\n",
              "<table border=\"1\" class=\"dataframe\">\n",
              "  <thead>\n",
              "    <tr style=\"text-align: right;\">\n",
              "      <th></th>\n",
              "      <th>app_id</th>\n",
              "      <th>claim_fd</th>\n",
              "      <th>count_days_between_packets</th>\n",
              "      <th>count_periods_between_packets</th>\n",
              "      <th>median_days_between_packets</th>\n",
              "      <th>mean_days_between_packets</th>\n",
              "      <th>variance_days_between_packets</th>\n",
              "      <th>months_in_YOTA</th>\n",
              "      <th>is_mnp</th>\n",
              "      <th>count_account_id</th>\n",
              "      <th>...</th>\n",
              "      <th>calls_out_cnt_uniq_opps</th>\n",
              "      <th>calls_in_minutes</th>\n",
              "      <th>calls_out_minutes</th>\n",
              "      <th>calls_in_minutes_mean</th>\n",
              "      <th>calls_out_minutes_mean</th>\n",
              "      <th>calls_in_minutes_median</th>\n",
              "      <th>calls_out_minutes_median</th>\n",
              "      <th>calls_in_minutes_variance</th>\n",
              "      <th>calls_out_minutes_variance</th>\n",
              "      <th>is_bad</th>\n",
              "    </tr>\n",
              "  </thead>\n",
              "  <tbody>\n",
              "    <tr>\n",
              "      <th>0</th>\n",
              "      <td>1</td>\n",
              "      <td>2020-11-04 18:59:13</td>\n",
              "      <td>0.0</td>\n",
              "      <td>0</td>\n",
              "      <td>0.0</td>\n",
              "      <td>0.0</td>\n",
              "      <td>0.0</td>\n",
              "      <td>79</td>\n",
              "      <td>1</td>\n",
              "      <td>2</td>\n",
              "      <td>...</td>\n",
              "      <td>13.0</td>\n",
              "      <td>51.0</td>\n",
              "      <td>44.0</td>\n",
              "      <td>1.21</td>\n",
              "      <td>2.10</td>\n",
              "      <td>1.0</td>\n",
              "      <td>2.0</td>\n",
              "      <td>3.977352</td>\n",
              "      <td>1.890476</td>\n",
              "      <td>0</td>\n",
              "    </tr>\n",
              "    <tr>\n",
              "      <th>1</th>\n",
              "      <td>1</td>\n",
              "      <td>2021-02-03 19:02:05</td>\n",
              "      <td>0.0</td>\n",
              "      <td>0</td>\n",
              "      <td>0.0</td>\n",
              "      <td>0.0</td>\n",
              "      <td>0.0</td>\n",
              "      <td>82</td>\n",
              "      <td>1</td>\n",
              "      <td>2</td>\n",
              "      <td>...</td>\n",
              "      <td>18.0</td>\n",
              "      <td>97.0</td>\n",
              "      <td>48.0</td>\n",
              "      <td>1.39</td>\n",
              "      <td>1.55</td>\n",
              "      <td>1.0</td>\n",
              "      <td>1.0</td>\n",
              "      <td>3.370807</td>\n",
              "      <td>1.189247</td>\n",
              "      <td>0</td>\n",
              "    </tr>\n",
              "    <tr>\n",
              "      <th>2</th>\n",
              "      <td>9274</td>\n",
              "      <td>2020-10-08 14:01:00</td>\n",
              "      <td>0.0</td>\n",
              "      <td>0</td>\n",
              "      <td>0.0</td>\n",
              "      <td>0.0</td>\n",
              "      <td>0.0</td>\n",
              "      <td>78</td>\n",
              "      <td>0</td>\n",
              "      <td>1</td>\n",
              "      <td>...</td>\n",
              "      <td>23.0</td>\n",
              "      <td>73.0</td>\n",
              "      <td>178.0</td>\n",
              "      <td>1.33</td>\n",
              "      <td>3.36</td>\n",
              "      <td>1.0</td>\n",
              "      <td>1.0</td>\n",
              "      <td>1.150168</td>\n",
              "      <td>26.311321</td>\n",
              "      <td>0</td>\n",
              "    </tr>\n",
              "    <tr>\n",
              "      <th>3</th>\n",
              "      <td>274947</td>\n",
              "      <td>2020-10-11 23:45:28</td>\n",
              "      <td>0.0</td>\n",
              "      <td>0</td>\n",
              "      <td>0.0</td>\n",
              "      <td>0.0</td>\n",
              "      <td>0.0</td>\n",
              "      <td>74</td>\n",
              "      <td>0</td>\n",
              "      <td>2</td>\n",
              "      <td>...</td>\n",
              "      <td>67.0</td>\n",
              "      <td>339.0</td>\n",
              "      <td>292.0</td>\n",
              "      <td>1.37</td>\n",
              "      <td>1.72</td>\n",
              "      <td>1.0</td>\n",
              "      <td>1.0</td>\n",
              "      <td>0.986271</td>\n",
              "      <td>2.357675</td>\n",
              "      <td>0</td>\n",
              "    </tr>\n",
              "    <tr>\n",
              "      <th>4</th>\n",
              "      <td>274947</td>\n",
              "      <td>2020-12-11 00:05:42</td>\n",
              "      <td>0.0</td>\n",
              "      <td>0</td>\n",
              "      <td>0.0</td>\n",
              "      <td>0.0</td>\n",
              "      <td>0.0</td>\n",
              "      <td>76</td>\n",
              "      <td>0</td>\n",
              "      <td>2</td>\n",
              "      <td>...</td>\n",
              "      <td>58.0</td>\n",
              "      <td>306.0</td>\n",
              "      <td>233.0</td>\n",
              "      <td>1.67</td>\n",
              "      <td>2.06</td>\n",
              "      <td>1.0</td>\n",
              "      <td>2.0</td>\n",
              "      <td>2.913889</td>\n",
              "      <td>2.969343</td>\n",
              "      <td>0</td>\n",
              "    </tr>\n",
              "  </tbody>\n",
              "</table>\n",
              "<p>5 rows × 75 columns</p>\n",
              "</div>"
            ],
            "text/plain": [
              "   app_id             claim_fd  count_days_between_packets  \\\n",
              "0       1  2020-11-04 18:59:13                         0.0   \n",
              "1       1  2021-02-03 19:02:05                         0.0   \n",
              "2    9274  2020-10-08 14:01:00                         0.0   \n",
              "3  274947  2020-10-11 23:45:28                         0.0   \n",
              "4  274947  2020-12-11 00:05:42                         0.0   \n",
              "\n",
              "   count_periods_between_packets  median_days_between_packets  \\\n",
              "0                              0                          0.0   \n",
              "1                              0                          0.0   \n",
              "2                              0                          0.0   \n",
              "3                              0                          0.0   \n",
              "4                              0                          0.0   \n",
              "\n",
              "   mean_days_between_packets  variance_days_between_packets  months_in_YOTA  \\\n",
              "0                        0.0                            0.0              79   \n",
              "1                        0.0                            0.0              82   \n",
              "2                        0.0                            0.0              78   \n",
              "3                        0.0                            0.0              74   \n",
              "4                        0.0                            0.0              76   \n",
              "\n",
              "   is_mnp  count_account_id  ...  calls_out_cnt_uniq_opps  calls_in_minutes  \\\n",
              "0       1                 2  ...                     13.0              51.0   \n",
              "1       1                 2  ...                     18.0              97.0   \n",
              "2       0                 1  ...                     23.0              73.0   \n",
              "3       0                 2  ...                     67.0             339.0   \n",
              "4       0                 2  ...                     58.0             306.0   \n",
              "\n",
              "   calls_out_minutes  calls_in_minutes_mean  calls_out_minutes_mean  \\\n",
              "0               44.0                   1.21                    2.10   \n",
              "1               48.0                   1.39                    1.55   \n",
              "2              178.0                   1.33                    3.36   \n",
              "3              292.0                   1.37                    1.72   \n",
              "4              233.0                   1.67                    2.06   \n",
              "\n",
              "   calls_in_minutes_median  calls_out_minutes_median  \\\n",
              "0                      1.0                       2.0   \n",
              "1                      1.0                       1.0   \n",
              "2                      1.0                       1.0   \n",
              "3                      1.0                       1.0   \n",
              "4                      1.0                       2.0   \n",
              "\n",
              "   calls_in_minutes_variance  calls_out_minutes_variance  is_bad  \n",
              "0                   3.977352                    1.890476       0  \n",
              "1                   3.370807                    1.189247       0  \n",
              "2                   1.150168                   26.311321       0  \n",
              "3                   0.986271                    2.357675       0  \n",
              "4                   2.913889                    2.969343       0  \n",
              "\n",
              "[5 rows x 75 columns]"
            ]
          },
          "execution_count": 3,
          "metadata": {},
          "output_type": "execute_result"
        }
      ],
      "source": [
        "data.head()"
      ]
    },
    {
      "cell_type": "markdown",
      "id": "e9f3f829",
      "metadata": {
        "id": "e9f3f829"
      },
      "source": [
        "### Оценка сбалансированность классов bad/good "
      ]
    },
    {
      "cell_type": "code",
      "execution_count": null,
      "id": "c297b4c8",
      "metadata": {
        "id": "c297b4c8",
        "outputId": "8657102f-60a3-4aff-fec0-d3ab0e9d344b"
      },
      "outputs": [
        {
          "data": {
            "text/plain": [
              "0    983587\n",
              "1     57473\n",
              "Name: is_bad, dtype: int64"
            ]
          },
          "execution_count": 4,
          "metadata": {},
          "output_type": "execute_result"
        }
      ],
      "source": [
        "data['is_bad'].value_counts()"
      ]
    },
    {
      "cell_type": "markdown",
      "id": "88dfbd9f",
      "metadata": {
        "id": "88dfbd9f"
      },
      "source": [
        "Дисбаланс в пользу людей кто все же вернул деньги, это естествено но все же надо проверить не вызван ли дисбаланс дубликатами."
      ]
    },
    {
      "cell_type": "code",
      "execution_count": null,
      "id": "97e935f6",
      "metadata": {
        "id": "97e935f6",
        "outputId": "63fb6ca9-f40b-4ce2-bfb3-dd8f57c4bceb"
      },
      "outputs": [
        {
          "data": {
            "text/plain": [
              "True"
            ]
          },
          "execution_count": 5,
          "metadata": {},
          "output_type": "execute_result"
        }
      ],
      "source": [
        "data.drop_duplicates().shape == data.shape"
      ]
    },
    {
      "cell_type": "code",
      "execution_count": null,
      "id": "f3746d28",
      "metadata": {
        "id": "f3746d28",
        "outputId": "5cc35346-b8f4-4541-a4f7-21ac3065e5fe"
      },
      "outputs": [
        {
          "name": "stdout",
          "output_type": "stream",
          "text": [
            "<class 'pandas.core.frame.DataFrame'>\n",
            "Int64Index: 1041060 entries, 0 to 1041059\n",
            "Data columns (total 75 columns):\n",
            " #   Column                         Non-Null Count    Dtype  \n",
            "---  ------                         --------------    -----  \n",
            " 0   app_id                         1041060 non-null  int64  \n",
            " 1   claim_fd                       1041060 non-null  object \n",
            " 2   count_days_between_packets     1041060 non-null  float64\n",
            " 3   count_periods_between_packets  1041060 non-null  int64  \n",
            " 4   median_days_between_packets    1041060 non-null  float64\n",
            " 5   mean_days_between_packets      1041060 non-null  float64\n",
            " 6   variance_days_between_packets  1041060 non-null  float64\n",
            " 7   months_in_YOTA                 1041060 non-null  int64  \n",
            " 8   is_mnp                         1041060 non-null  int64  \n",
            " 9   count_account_id               1041060 non-null  int64  \n",
            " 10  have_pd                        1041060 non-null  int64  \n",
            " 11  is_Russia                      1041060 non-null  int64  \n",
            " 12  is_rus_pasport                 1041060 non-null  int64  \n",
            " 13  cdi_gender                     1041060 non-null  int64  \n",
            " 14  age                            1041060 non-null  float64\n",
            " 15  age_come_YOTA                  1041060 non-null  float64\n",
            " 16  sum_refill_0                   1041060 non-null  float64\n",
            " 17  count_refill_0                 1041060 non-null  int64  \n",
            " 18  sum_refill_1                   1041060 non-null  float64\n",
            " 19  count_refill_1                 1041060 non-null  int64  \n",
            " 20  sum_refill_part_1              1041060 non-null  float64\n",
            " 21  count_refill_part_1            1041060 non-null  float64\n",
            " 22  sum_refill_2                   1041060 non-null  float64\n",
            " 23  count_refill_2                 1041060 non-null  int64  \n",
            " 24  sum_refill_part_2              1041060 non-null  float64\n",
            " 25  count_refill_part_2            1041060 non-null  float64\n",
            " 26  sum_payments_0                 1041060 non-null  float64\n",
            " 27  count_payments_0               1041060 non-null  int64  \n",
            " 28  sum_payments_1                 1041060 non-null  float64\n",
            " 29  count_payments_1               1041060 non-null  int64  \n",
            " 30  sum_payments_part_1            1041060 non-null  float64\n",
            " 31  count_payments_part_1          1041060 non-null  float64\n",
            " 32  sum_payments_2                 1041060 non-null  float64\n",
            " 33  count_payments_2               1041060 non-null  int64  \n",
            " 34  sum_payments_part_2            1041060 non-null  float64\n",
            " 35  count_payments_part_2          1041060 non-null  float64\n",
            " 36  price_options_0                1041060 non-null  float64\n",
            " 37  count_options_0                1041060 non-null  int64  \n",
            " 38  price_options_1                1041060 non-null  float64\n",
            " 39  count_options_1                1041060 non-null  int64  \n",
            " 40  price_options_part_1           1041060 non-null  float64\n",
            " 41  count_options_part_1           1041060 non-null  float64\n",
            " 42  price_options_2                1041060 non-null  float64\n",
            " 43  count_options_2                1041060 non-null  int64  \n",
            " 44  price_options_part_2           1041060 non-null  float64\n",
            " 45  count_options_part_2           1041060 non-null  float64\n",
            " 46  price_packet_0                 1041060 non-null  float64\n",
            " 47  price_packet_1                 1041060 non-null  float64\n",
            " 48  price_packet_part_1            1041060 non-null  float64\n",
            " 49  price_packet_2                 1041060 non-null  float64\n",
            " 50  price_packet_part_2            1041060 non-null  float64\n",
            " 51  count_beauty_number            1041060 non-null  float64\n",
            " 52  count_numbers                  1041060 non-null  int64  \n",
            " 53  count_verification             1041060 non-null  int64  \n",
            " 54  count_payment_resourses_90d    1041060 non-null  int64  \n",
            " 55  count_good                     1041060 non-null  int64  \n",
            " 56  count_bad                      1041060 non-null  int64  \n",
            " 57  calls_minutes_part_YOTA        1041060 non-null  float64\n",
            " 58  count_smartphone               1041060 non-null  float64\n",
            " 59  count_tablet                   1041060 non-null  float64\n",
            " 60  count_modem                    1041060 non-null  float64\n",
            " 61  count_mikrocredit_sms          1041060 non-null  float64\n",
            " 62  calls_in_cnt_calls             1041060 non-null  float64\n",
            " 63  calls_out_cnt_calls            1041060 non-null  float64\n",
            " 64  calls_in_cnt_uniq_opps         1041060 non-null  float64\n",
            " 65  calls_out_cnt_uniq_opps        1041060 non-null  float64\n",
            " 66  calls_in_minutes               1041060 non-null  float64\n",
            " 67  calls_out_minutes              1041060 non-null  float64\n",
            " 68  calls_in_minutes_mean          1041060 non-null  float64\n",
            " 69  calls_out_minutes_mean         1041060 non-null  float64\n",
            " 70  calls_in_minutes_median        1041060 non-null  float64\n",
            " 71  calls_out_minutes_median       1041060 non-null  float64\n",
            " 72  calls_in_minutes_variance      1041060 non-null  float64\n",
            " 73  calls_out_minutes_variance     1041060 non-null  float64\n",
            " 74  is_bad                         1041060 non-null  int64  \n",
            "dtypes: float64(50), int64(24), object(1)\n",
            "memory usage: 603.6+ MB\n"
          ]
        }
      ],
      "source": [
        "#проверим наличие пропусков\n",
        "data.info()"
      ]
    },
    {
      "cell_type": "code",
      "execution_count": null,
      "id": "ffd24321",
      "metadata": {
        "id": "ffd24321",
        "outputId": "fce44bb0-62e1-4604-f7cb-6bb5ee47036b"
      },
      "outputs": [
        {
          "data": {
            "text/plain": [
              "0.05843204515716454"
            ]
          },
          "execution_count": 7,
          "metadata": {},
          "output_type": "execute_result"
        }
      ],
      "source": [
        "data['is_bad'].value_counts()[1] / data['is_bad'].value_counts()[0]"
      ]
    },
    {
      "cell_type": "markdown",
      "id": "b2681120",
      "metadata": {
        "id": "b2681120"
      },
      "source": [
        "Дисбаланс в данной ситуации является еще одним параметром данных и не нуждается в исправлении, надо будет лишь выбрать правильную метрику и модель. \n",
        "\n",
        "Буду использовать градиентный бустинг где в качестве loss функции используется LogLoss для которого балансировка классов не только избыточна но и неполезна (в случае если дисбаланс это следствие естественных причин)\n",
        "https://dyakonov.org/2021/05/27/imbalance/\n",
        "\n",
        "А в качестве метрик используем Roc auc, f1, recall, precision, CM"
      ]
    },
    {
      "cell_type": "markdown",
      "id": "67981c01",
      "metadata": {
        "id": "67981c01"
      },
      "source": [
        "### Распределения признаков\n",
        "3) чтоб правильно воспринимать разницу в распределениях нужна балансировка, сбалансируем времено данные.\n",
        "\n",
        "Использую алгоритм RandomOverSampler"
      ]
    },
    {
      "cell_type": "code",
      "execution_count": null,
      "id": "2e1793c5",
      "metadata": {
        "id": "2e1793c5"
      },
      "outputs": [],
      "source": [
        "from imblearn.over_sampling import RandomOverSampler\n",
        "\n",
        "X = data.drop(columns=['is_bad'])\n",
        "y = data['is_bad']\n",
        "ros = RandomOverSampler(random_state=0)\n",
        "data_balanced, y_resampled = ros.fit_resample(X, y)"
      ]
    },
    {
      "cell_type": "code",
      "execution_count": null,
      "id": "087a71ab",
      "metadata": {
        "id": "087a71ab"
      },
      "outputs": [],
      "source": [
        "data_balanced['is_bad'] = y_resampled"
      ]
    },
    {
      "cell_type": "code",
      "execution_count": null,
      "id": "50ad555a",
      "metadata": {
        "id": "50ad555a",
        "outputId": "0f619701-875a-4f5f-9a9c-25881e30663c"
      },
      "outputs": [
        {
          "data": {
            "text/plain": [
              "0    983587\n",
              "1    983587\n",
              "Name: is_bad, dtype: int64"
            ]
          },
          "execution_count": 10,
          "metadata": {},
          "output_type": "execute_result"
        }
      ],
      "source": [
        "y_resampled.value_counts()"
      ]
    },
    {
      "cell_type": "code",
      "execution_count": null,
      "id": "253a3a9a",
      "metadata": {
        "id": "253a3a9a"
      },
      "outputs": [],
      "source": [
        "data_bad = data_balanced.loc[data_balanced['is_bad']==1].\\\n",
        "                                    drop(columns='is_bad')\n",
        "data_good = data_balanced.loc[data_balanced['is_bad']==0].\\\n",
        "                                    drop(columns='is_bad')"
      ]
    },
    {
      "cell_type": "markdown",
      "id": "92bcb67f",
      "metadata": {
        "id": "92bcb67f"
      },
      "source": [
        "Просмотрел все столбцы и вывел те где явно видна разница в разпределенниях по группам"
      ]
    },
    {
      "cell_type": "code",
      "execution_count": null,
      "id": "0974309c",
      "metadata": {
        "id": "0974309c",
        "outputId": "58d8c804-c766-487b-9f7e-21ccc2debcdb"
      },
      "outputs": [
        {
          "data": {
            "text/plain": [
              "(array([5.09581e+05, 1.66450e+04, 9.62150e+04, 1.38026e+05, 1.07863e+05,\n",
              "        8.12710e+04, 2.36750e+04, 6.63800e+03, 1.83500e+03, 9.35000e+02,\n",
              "        7.14000e+02, 6.60000e+01, 1.70000e+01, 3.20000e+01, 7.40000e+01]),\n",
              " array([   0.        ,   93.66666667,  187.33333333,  281.        ,\n",
              "         374.66666667,  468.33333333,  562.        ,  655.66666667,\n",
              "         749.33333333,  843.        ,  936.66666667, 1030.33333333,\n",
              "        1124.        , 1217.66666667, 1311.33333333, 1405.        ]),\n",
              " <BarContainer object of 15 artists>)"
            ]
          },
          "execution_count": 12,
          "metadata": {},
          "output_type": "execute_result"
        },
        {
          "data": {
            "image/png": "[encoded data removed]",
            "text/plain": [
              "<Figure size 432x288 with 1 Axes>"
            ]
          },
          "metadata": {
            "needs_background": "light"
          },
          "output_type": "display_data"
        }
      ],
      "source": [
        "column='price_packet_0'\n",
        "plt.hist(data_good[column], alpha=0.5, bins=15)\n",
        "plt.hist(data_bad[column], alpha=0.5, bins=15)"
      ]
    },
    {
      "cell_type": "markdown",
      "id": "63970b83",
      "metadata": {
        "id": "63970b83"
      },
      "source": [
        "большенство тех кто не отдают долг выбирают самые дешевые пакеты"
      ]
    },
    {
      "cell_type": "code",
      "execution_count": null,
      "id": "e1002854",
      "metadata": {
        "id": "e1002854",
        "outputId": "97d171b4-f393-45b1-9605-c92ce0819a11"
      },
      "outputs": [
        {
          "data": {
            "text/plain": [
              "(array([1.03200e+03, 1.81608e+05, 3.71591e+05, 3.01444e+05, 8.82820e+04,\n",
              "        3.37540e+04, 5.29900e+03, 5.16000e+02, 2.40000e+01, 3.70000e+01]),\n",
              " array([  0. ,  11.3,  22.6,  33.9,  45.2,  56.5,  67.8,  79.1,  90.4,\n",
              "        101.7, 113. ]),\n",
              " <BarContainer object of 10 artists>)"
            ]
          },
          "execution_count": 28,
          "metadata": {},
          "output_type": "execute_result"
        },
        {
          "data": {
            "image/png": "[encoded data removed]",
            "text/plain": [
              "<Figure size 432x288 with 1 Axes>"
            ]
          },
          "metadata": {
            "needs_background": "light"
          },
          "output_type": "display_data"
        }
      ],
      "source": [
        "column='age_come_YOTA'\n",
        "plt.hist(data_good[column], alpha=0.5)\n",
        "plt.hist(data_bad[column], alpha=0.5)"
      ]
    },
    {
      "cell_type": "markdown",
      "id": "6ced4eb3",
      "metadata": {
        "id": "6ced4eb3"
      },
      "source": [
        "можно сказать что пользователи не возвративщие долг немного моложе"
      ]
    },
    {
      "cell_type": "code",
      "execution_count": null,
      "id": "c45d0d0a",
      "metadata": {
        "id": "c45d0d0a",
        "outputId": "93458235-0594-4d66-f0ec-aa693b3d140f"
      },
      "outputs": [
        {
          "data": {
            "text/plain": [
              "(array([284242., 203826., 128713.,  83954.,  63927.,  49192.,  94744.,\n",
              "         48116.,  23303.,   3570.]),\n",
              " array([ 2. ,  9.5, 17. , 24.5, 32. , 39.5, 47. , 54.5, 62. , 69.5, 77. ]),\n",
              " <BarContainer object of 10 artists>)"
            ]
          },
          "execution_count": 29,
          "metadata": {},
          "output_type": "execute_result"
        },
        {
          "data": {
            "image/png": "[encoded data removed]",
            "text/plain": [
              "<Figure size 432x288 with 1 Axes>"
            ]
          },
          "metadata": {
            "needs_background": "light"
          },
          "output_type": "display_data"
        }
      ],
      "source": [
        "column='months_in_YOTA'\n",
        "plt.hist(data_good[column], alpha=0.5)\n",
        "plt.hist(data_bad[column], alpha=0.5)"
      ]
    },
    {
      "cell_type": "markdown",
      "id": "a9e3a785",
      "metadata": {
        "id": "a9e3a785"
      },
      "source": [
        "Разница понятна, люди берут ОП не оплачивают и уходят по этому у них маленький период пользования йота у неоплативших ОП"
      ]
    },
    {
      "cell_type": "code",
      "execution_count": null,
      "id": "a66dc6d9",
      "metadata": {
        "id": "a66dc6d9",
        "outputId": "5a0a9152-1bab-4fc2-cf33-59db02764a29"
      },
      "outputs": [
        {
          "data": {
            "text/plain": [
              "(array([2.64402e+05, 2.07882e+05, 1.80513e+05, 1.35783e+05, 9.91230e+04,\n",
              "        5.75250e+04, 2.66590e+04, 9.34500e+03, 2.17600e+03, 1.79000e+02]),\n",
              " array([ 0. ,  1.1,  2.2,  3.3,  4.4,  5.5,  6.6,  7.7,  8.8,  9.9, 11. ]),\n",
              " <BarContainer object of 10 artists>)"
            ]
          },
          "execution_count": 30,
          "metadata": {},
          "output_type": "execute_result"
        },
        {
          "data": {
            "image/png": "[encoded data removed]",
            "text/plain": [
              "<Figure size 432x288 with 1 Axes>"
            ]
          },
          "metadata": {
            "needs_background": "light"
          },
          "output_type": "display_data"
        }
      ],
      "source": [
        "column='count_periods_between_packets'\n",
        "plt.hist(data_good[column], alpha=0.5)\n",
        "plt.hist(data_bad[column], alpha=0.5)"
      ]
    },
    {
      "cell_type": "markdown",
      "id": "cc6c1fd6",
      "metadata": {
        "id": "cc6c1fd6"
      },
      "source": [
        "Разделил список параметров на качественные и количественные"
      ]
    },
    {
      "cell_type": "code",
      "execution_count": null,
      "id": "90ed0f44",
      "metadata": {
        "id": "90ed0f44"
      },
      "outputs": [],
      "source": [
        "continous_cols = ['count_days_between_packets',\n",
        "       'count_periods_between_packets', 'median_days_between_packets',\n",
        "       'mean_days_between_packets', 'variance_days_between_packets',\n",
        "       'months_in_YOTA', 'count_account_id', 'age', 'age_come_YOTA', 'sum_refill_0',\n",
        "       'count_refill_0', 'sum_refill_1', 'count_refill_1', 'sum_refill_part_1',\n",
        "       'count_refill_part_1', 'sum_refill_2', 'count_refill_2',\n",
        "       'sum_refill_part_2', 'count_refill_part_2', 'sum_payments_0',\n",
        "       'count_payments_0', 'sum_payments_1', 'count_payments_1',\n",
        "       'sum_payments_part_1', 'count_payments_part_1', 'sum_payments_2',\n",
        "       'count_payments_2', 'sum_payments_part_2', 'count_payments_part_2',\n",
        "       'price_options_0', 'count_options_0', 'price_options_1',\n",
        "       'count_options_1', 'price_options_part_1', 'count_options_part_1',\n",
        "       'price_options_2', 'count_options_2', 'price_options_part_2',\n",
        "       'count_options_part_2', 'price_packet_0', 'price_packet_1',\n",
        "       'price_packet_part_1', 'price_packet_2', 'price_packet_part_2',\n",
        "       'count_beauty_number', 'count_numbers', 'count_verification',\n",
        "       'count_payment_resourses_90d', 'count_good', 'count_bad',\n",
        "       'calls_minutes_part_YOTA', 'count_smartphone', 'count_tablet',\n",
        "       'count_modem', 'count_mikrocredit_sms', 'calls_in_cnt_calls',\n",
        "       'calls_out_cnt_calls', 'calls_in_cnt_uniq_opps',\n",
        "       'calls_out_cnt_uniq_opps', 'calls_in_minutes', 'calls_out_minutes',\n",
        "       'calls_in_minutes_mean', 'calls_out_minutes_mean',\n",
        "       'calls_in_minutes_median', 'calls_out_minutes_median',\n",
        "       'calls_in_minutes_variance', 'calls_out_minutes_variance', 'is_bad'] "
      ]
    },
    {
      "cell_type": "code",
      "execution_count": null,
      "id": "fad66037",
      "metadata": {
        "id": "fad66037"
      },
      "outputs": [],
      "source": [
        "class_cols = ['is_mnp', 'have_pd', 'is_Russia', 'is_rus_pasport', 'cdi_gender', 'is_bad']\n",
        "X_cols = list(set(class_cols + continous_cols) - set(['is_bad']))"
      ]
    },
    {
      "cell_type": "markdown",
      "id": "f7b9f568",
      "metadata": {
        "id": "f7b9f568"
      },
      "source": [
        "проведем кореляционный анализ"
      ]
    },
    {
      "cell_type": "code",
      "execution_count": null,
      "id": "8d267019",
      "metadata": {
        "id": "8d267019"
      },
      "outputs": [],
      "source": [
        "corr = data[continous_cols].corr()"
      ]
    },
    {
      "cell_type": "code",
      "execution_count": null,
      "id": "c4bbf5fc",
      "metadata": {
        "id": "c4bbf5fc",
        "outputId": "8eb9d264-2671-4cd6-8db5-d6b1c3e20294"
      },
      "outputs": [
        {
          "data": {
            "text/html": [
              "<div>\n",
              "<style scoped>\n",
              "    .dataframe tbody tr th:only-of-type {\n",
              "        vertical-align: middle;\n",
              "    }\n",
              "\n",
              "    .dataframe tbody tr th {\n",
              "        vertical-align: top;\n",
              "    }\n",
              "\n",
              "    .dataframe thead th {\n",
              "        text-align: right;\n",
              "    }\n",
              "</style>\n",
              "<table border=\"1\" class=\"dataframe\">\n",
              "  <thead>\n",
              "    <tr style=\"text-align: right;\">\n",
              "      <th></th>\n",
              "      <th>count_days_between_packets</th>\n",
              "      <th>count_periods_between_packets</th>\n",
              "      <th>median_days_between_packets</th>\n",
              "      <th>mean_days_between_packets</th>\n",
              "      <th>variance_days_between_packets</th>\n",
              "      <th>months_in_YOTA</th>\n",
              "      <th>count_account_id</th>\n",
              "      <th>age</th>\n",
              "      <th>age_come_YOTA</th>\n",
              "      <th>sum_refill_0</th>\n",
              "      <th>...</th>\n",
              "      <th>calls_out_cnt_uniq_opps</th>\n",
              "      <th>calls_in_minutes</th>\n",
              "      <th>calls_out_minutes</th>\n",
              "      <th>calls_in_minutes_mean</th>\n",
              "      <th>calls_out_minutes_mean</th>\n",
              "      <th>calls_in_minutes_median</th>\n",
              "      <th>calls_out_minutes_median</th>\n",
              "      <th>calls_in_minutes_variance</th>\n",
              "      <th>calls_out_minutes_variance</th>\n",
              "      <th>is_bad</th>\n",
              "    </tr>\n",
              "  </thead>\n",
              "  <tbody>\n",
              "    <tr>\n",
              "      <th>count_days_between_packets</th>\n",
              "      <td>1.000000</td>\n",
              "      <td>0.548382</td>\n",
              "      <td>0.654031</td>\n",
              "      <td>0.796264</td>\n",
              "      <td>0.597547</td>\n",
              "      <td>-0.079603</td>\n",
              "      <td>-0.029077</td>\n",
              "      <td>0.018450</td>\n",
              "      <td>0.030802</td>\n",
              "      <td>-0.057621</td>\n",
              "      <td>...</td>\n",
              "      <td>-0.103108</td>\n",
              "      <td>-0.082262</td>\n",
              "      <td>-0.095791</td>\n",
              "      <td>-0.035372</td>\n",
              "      <td>-0.054597</td>\n",
              "      <td>-0.005192</td>\n",
              "      <td>-0.019783</td>\n",
              "      <td>-0.008967</td>\n",
              "      <td>-0.021014</td>\n",
              "      <td>0.167995</td>\n",
              "    </tr>\n",
              "    <tr>\n",
              "      <th>count_periods_between_packets</th>\n",
              "      <td>0.548382</td>\n",
              "      <td>1.000000</td>\n",
              "      <td>0.116299</td>\n",
              "      <td>0.203827</td>\n",
              "      <td>0.104131</td>\n",
              "      <td>-0.058088</td>\n",
              "      <td>-0.013857</td>\n",
              "      <td>0.019412</td>\n",
              "      <td>0.028635</td>\n",
              "      <td>-0.081798</td>\n",
              "      <td>...</td>\n",
              "      <td>-0.127174</td>\n",
              "      <td>-0.086957</td>\n",
              "      <td>-0.107871</td>\n",
              "      <td>-0.033503</td>\n",
              "      <td>-0.047999</td>\n",
              "      <td>-0.006523</td>\n",
              "      <td>-0.017255</td>\n",
              "      <td>-0.009422</td>\n",
              "      <td>-0.018583</td>\n",
              "      <td>0.135134</td>\n",
              "    </tr>\n",
              "    <tr>\n",
              "      <th>median_days_between_packets</th>\n",
              "      <td>0.654031</td>\n",
              "      <td>0.116299</td>\n",
              "      <td>1.000000</td>\n",
              "      <td>0.956108</td>\n",
              "      <td>0.390695</td>\n",
              "      <td>-0.067906</td>\n",
              "      <td>-0.010566</td>\n",
              "      <td>0.004156</td>\n",
              "      <td>0.014772</td>\n",
              "      <td>-0.011018</td>\n",
              "      <td>...</td>\n",
              "      <td>-0.046945</td>\n",
              "      <td>-0.042822</td>\n",
              "      <td>-0.045842</td>\n",
              "      <td>-0.017672</td>\n",
              "      <td>-0.029053</td>\n",
              "      <td>-0.002129</td>\n",
              "      <td>-0.012429</td>\n",
              "      <td>-0.002778</td>\n",
              "      <td>-0.010101</td>\n",
              "      <td>0.084890</td>\n",
              "    </tr>\n",
              "    <tr>\n",
              "      <th>mean_days_between_packets</th>\n",
              "      <td>0.796264</td>\n",
              "      <td>0.203827</td>\n",
              "      <td>0.956108</td>\n",
              "      <td>1.000000</td>\n",
              "      <td>0.506577</td>\n",
              "      <td>-0.075336</td>\n",
              "      <td>-0.015720</td>\n",
              "      <td>0.006954</td>\n",
              "      <td>0.018679</td>\n",
              "      <td>-0.022031</td>\n",
              "      <td>...</td>\n",
              "      <td>-0.062099</td>\n",
              "      <td>-0.054511</td>\n",
              "      <td>-0.060257</td>\n",
              "      <td>-0.023818</td>\n",
              "      <td>-0.037713</td>\n",
              "      <td>-0.003748</td>\n",
              "      <td>-0.015415</td>\n",
              "      <td>-0.004972</td>\n",
              "      <td>-0.013974</td>\n",
              "      <td>0.108915</td>\n",
              "    </tr>\n",
              "    <tr>\n",
              "      <th>variance_days_between_packets</th>\n",
              "      <td>0.597547</td>\n",
              "      <td>0.104131</td>\n",
              "      <td>0.390695</td>\n",
              "      <td>0.506577</td>\n",
              "      <td>1.000000</td>\n",
              "      <td>-0.030323</td>\n",
              "      <td>-0.018854</td>\n",
              "      <td>0.007169</td>\n",
              "      <td>0.011898</td>\n",
              "      <td>-0.019737</td>\n",
              "      <td>...</td>\n",
              "      <td>-0.036771</td>\n",
              "      <td>-0.032904</td>\n",
              "      <td>-0.036448</td>\n",
              "      <td>-0.016257</td>\n",
              "      <td>-0.023907</td>\n",
              "      <td>-0.003538</td>\n",
              "      <td>-0.010167</td>\n",
              "      <td>-0.004915</td>\n",
              "      <td>-0.009409</td>\n",
              "      <td>0.075813</td>\n",
              "    </tr>\n",
              "    <tr>\n",
              "      <th>...</th>\n",
              "      <td>...</td>\n",
              "      <td>...</td>\n",
              "      <td>...</td>\n",
              "      <td>...</td>\n",
              "      <td>...</td>\n",
              "      <td>...</td>\n",
              "      <td>...</td>\n",
              "      <td>...</td>\n",
              "      <td>...</td>\n",
              "      <td>...</td>\n",
              "      <td>...</td>\n",
              "      <td>...</td>\n",
              "      <td>...</td>\n",
              "      <td>...</td>\n",
              "      <td>...</td>\n",
              "      <td>...</td>\n",
              "      <td>...</td>\n",
              "      <td>...</td>\n",
              "      <td>...</td>\n",
              "      <td>...</td>\n",
              "      <td>...</td>\n",
              "    </tr>\n",
              "    <tr>\n",
              "      <th>calls_in_minutes_median</th>\n",
              "      <td>-0.005192</td>\n",
              "      <td>-0.006523</td>\n",
              "      <td>-0.002129</td>\n",
              "      <td>-0.003748</td>\n",
              "      <td>-0.003538</td>\n",
              "      <td>-0.004301</td>\n",
              "      <td>-0.003865</td>\n",
              "      <td>0.023066</td>\n",
              "      <td>0.023418</td>\n",
              "      <td>-0.002611</td>\n",
              "      <td>...</td>\n",
              "      <td>-0.035458</td>\n",
              "      <td>0.126509</td>\n",
              "      <td>0.044730</td>\n",
              "      <td>0.610210</td>\n",
              "      <td>0.187156</td>\n",
              "      <td>1.000000</td>\n",
              "      <td>0.146717</td>\n",
              "      <td>0.279183</td>\n",
              "      <td>0.129991</td>\n",
              "      <td>-0.005400</td>\n",
              "    </tr>\n",
              "    <tr>\n",
              "      <th>calls_out_minutes_median</th>\n",
              "      <td>-0.019783</td>\n",
              "      <td>-0.017255</td>\n",
              "      <td>-0.012429</td>\n",
              "      <td>-0.015415</td>\n",
              "      <td>-0.010167</td>\n",
              "      <td>0.034095</td>\n",
              "      <td>-0.010819</td>\n",
              "      <td>0.011892</td>\n",
              "      <td>0.006575</td>\n",
              "      <td>0.012565</td>\n",
              "      <td>...</td>\n",
              "      <td>-0.036196</td>\n",
              "      <td>0.054711</td>\n",
              "      <td>0.131705</td>\n",
              "      <td>0.227650</td>\n",
              "      <td>0.694050</td>\n",
              "      <td>0.146717</td>\n",
              "      <td>1.000000</td>\n",
              "      <td>0.134294</td>\n",
              "      <td>0.312250</td>\n",
              "      <td>-0.014976</td>\n",
              "    </tr>\n",
              "    <tr>\n",
              "      <th>calls_in_minutes_variance</th>\n",
              "      <td>-0.008967</td>\n",
              "      <td>-0.009422</td>\n",
              "      <td>-0.002778</td>\n",
              "      <td>-0.004972</td>\n",
              "      <td>-0.004915</td>\n",
              "      <td>-0.005827</td>\n",
              "      <td>-0.003930</td>\n",
              "      <td>0.006761</td>\n",
              "      <td>0.007404</td>\n",
              "      <td>0.011697</td>\n",
              "      <td>...</td>\n",
              "      <td>-0.042239</td>\n",
              "      <td>0.274678</td>\n",
              "      <td>0.131955</td>\n",
              "      <td>0.733641</td>\n",
              "      <td>0.322792</td>\n",
              "      <td>0.279183</td>\n",
              "      <td>0.134294</td>\n",
              "      <td>1.000000</td>\n",
              "      <td>0.372753</td>\n",
              "      <td>-0.006975</td>\n",
              "    </tr>\n",
              "    <tr>\n",
              "      <th>calls_out_minutes_variance</th>\n",
              "      <td>-0.021014</td>\n",
              "      <td>-0.018583</td>\n",
              "      <td>-0.010101</td>\n",
              "      <td>-0.013974</td>\n",
              "      <td>-0.009409</td>\n",
              "      <td>0.018928</td>\n",
              "      <td>-0.003501</td>\n",
              "      <td>-0.002063</td>\n",
              "      <td>-0.004964</td>\n",
              "      <td>0.019436</td>\n",
              "      <td>...</td>\n",
              "      <td>-0.038329</td>\n",
              "      <td>0.160740</td>\n",
              "      <td>0.263796</td>\n",
              "      <td>0.353275</td>\n",
              "      <td>0.729094</td>\n",
              "      <td>0.129991</td>\n",
              "      <td>0.312250</td>\n",
              "      <td>0.372753</td>\n",
              "      <td>1.000000</td>\n",
              "      <td>-0.012975</td>\n",
              "    </tr>\n",
              "    <tr>\n",
              "      <th>is_bad</th>\n",
              "      <td>0.167995</td>\n",
              "      <td>0.135134</td>\n",
              "      <td>0.084890</td>\n",
              "      <td>0.108915</td>\n",
              "      <td>0.075813</td>\n",
              "      <td>-0.116277</td>\n",
              "      <td>-0.059118</td>\n",
              "      <td>-0.003239</td>\n",
              "      <td>0.014074</td>\n",
              "      <td>-0.040245</td>\n",
              "      <td>...</td>\n",
              "      <td>-0.060537</td>\n",
              "      <td>-0.045339</td>\n",
              "      <td>-0.058903</td>\n",
              "      <td>-0.024397</td>\n",
              "      <td>-0.036689</td>\n",
              "      <td>-0.005400</td>\n",
              "      <td>-0.014976</td>\n",
              "      <td>-0.006975</td>\n",
              "      <td>-0.012975</td>\n",
              "      <td>1.000000</td>\n",
              "    </tr>\n",
              "  </tbody>\n",
              "</table>\n",
              "<p>68 rows × 68 columns</p>\n",
              "</div>"
            ],
            "text/plain": [
              "                               count_days_between_packets  \\\n",
              "count_days_between_packets                       1.000000   \n",
              "count_periods_between_packets                    0.548382   \n",
              "median_days_between_packets                      0.654031   \n",
              "mean_days_between_packets                        0.796264   \n",
              "variance_days_between_packets                    0.597547   \n",
              "...                                                   ...   \n",
              "calls_in_minutes_median                         -0.005192   \n",
              "calls_out_minutes_median                        -0.019783   \n",
              "calls_in_minutes_variance                       -0.008967   \n",
              "calls_out_minutes_variance                      -0.021014   \n",
              "is_bad                                           0.167995   \n",
              "\n",
              "                               count_periods_between_packets  \\\n",
              "count_days_between_packets                          0.548382   \n",
              "count_periods_between_packets                       1.000000   \n",
              "median_days_between_packets                         0.116299   \n",
              "mean_days_between_packets                           0.203827   \n",
              "variance_days_between_packets                       0.104131   \n",
              "...                                                      ...   \n",
              "calls_in_minutes_median                            -0.006523   \n",
              "calls_out_minutes_median                           -0.017255   \n",
              "calls_in_minutes_variance                          -0.009422   \n",
              "calls_out_minutes_variance                         -0.018583   \n",
              "is_bad                                              0.135134   \n",
              "\n",
              "                               median_days_between_packets  \\\n",
              "count_days_between_packets                        0.654031   \n",
              "count_periods_between_packets                     0.116299   \n",
              "median_days_between_packets                       1.000000   \n",
              "mean_days_between_packets                         0.956108   \n",
              "variance_days_between_packets                     0.390695   \n",
              "...                                                    ...   \n",
              "calls_in_minutes_median                          -0.002129   \n",
              "calls_out_minutes_median                         -0.012429   \n",
              "calls_in_minutes_variance                        -0.002778   \n",
              "calls_out_minutes_variance                       -0.010101   \n",
              "is_bad                                            0.084890   \n",
              "\n",
              "                               mean_days_between_packets  \\\n",
              "count_days_between_packets                      0.796264   \n",
              "count_periods_between_packets                   0.203827   \n",
              "median_days_between_packets                     0.956108   \n",
              "mean_days_between_packets                       1.000000   \n",
              "variance_days_between_packets                   0.506577   \n",
              "...                                                  ...   \n",
              "calls_in_minutes_median                        -0.003748   \n",
              "calls_out_minutes_median                       -0.015415   \n",
              "calls_in_minutes_variance                      -0.004972   \n",
              "calls_out_minutes_variance                     -0.013974   \n",
              "is_bad                                          0.108915   \n",
              "\n",
              "                               variance_days_between_packets  months_in_YOTA  \\\n",
              "count_days_between_packets                          0.597547       -0.079603   \n",
              "count_periods_between_packets                       0.104131       -0.058088   \n",
              "median_days_between_packets                         0.390695       -0.067906   \n",
              "mean_days_between_packets                           0.506577       -0.075336   \n",
              "variance_days_between_packets                       1.000000       -0.030323   \n",
              "...                                                      ...             ...   \n",
              "calls_in_minutes_median                            -0.003538       -0.004301   \n",
              "calls_out_minutes_median                           -0.010167        0.034095   \n",
              "calls_in_minutes_variance                          -0.004915       -0.005827   \n",
              "calls_out_minutes_variance                         -0.009409        0.018928   \n",
              "is_bad                                              0.075813       -0.116277   \n",
              "\n",
              "                               count_account_id       age  age_come_YOTA  \\\n",
              "count_days_between_packets            -0.029077  0.018450       0.030802   \n",
              "count_periods_between_packets         -0.013857  0.019412       0.028635   \n",
              "median_days_between_packets           -0.010566  0.004156       0.014772   \n",
              "mean_days_between_packets             -0.015720  0.006954       0.018679   \n",
              "variance_days_between_packets         -0.018854  0.007169       0.011898   \n",
              "...                                         ...       ...            ...   \n",
              "calls_in_minutes_median               -0.003865  0.023066       0.023418   \n",
              "calls_out_minutes_median              -0.010819  0.011892       0.006575   \n",
              "calls_in_minutes_variance             -0.003930  0.006761       0.007404   \n",
              "calls_out_minutes_variance            -0.003501 -0.002063      -0.004964   \n",
              "is_bad                                -0.059118 -0.003239       0.014074   \n",
              "\n",
              "                               sum_refill_0  ...  calls_out_cnt_uniq_opps  \\\n",
              "count_days_between_packets        -0.057621  ...                -0.103108   \n",
              "count_periods_between_packets     -0.081798  ...                -0.127174   \n",
              "median_days_between_packets       -0.011018  ...                -0.046945   \n",
              "mean_days_between_packets         -0.022031  ...                -0.062099   \n",
              "variance_days_between_packets     -0.019737  ...                -0.036771   \n",
              "...                                     ...  ...                      ...   \n",
              "calls_in_minutes_median           -0.002611  ...                -0.035458   \n",
              "calls_out_minutes_median           0.012565  ...                -0.036196   \n",
              "calls_in_minutes_variance          0.011697  ...                -0.042239   \n",
              "calls_out_minutes_variance         0.019436  ...                -0.038329   \n",
              "is_bad                            -0.040245  ...                -0.060537   \n",
              "\n",
              "                               calls_in_minutes  calls_out_minutes  \\\n",
              "count_days_between_packets            -0.082262          -0.095791   \n",
              "count_periods_between_packets         -0.086957          -0.107871   \n",
              "median_days_between_packets           -0.042822          -0.045842   \n",
              "mean_days_between_packets             -0.054511          -0.060257   \n",
              "variance_days_between_packets         -0.032904          -0.036448   \n",
              "...                                         ...                ...   \n",
              "calls_in_minutes_median                0.126509           0.044730   \n",
              "calls_out_minutes_median               0.054711           0.131705   \n",
              "calls_in_minutes_variance              0.274678           0.131955   \n",
              "calls_out_minutes_variance             0.160740           0.263796   \n",
              "is_bad                                -0.045339          -0.058903   \n",
              "\n",
              "                               calls_in_minutes_mean  calls_out_minutes_mean  \\\n",
              "count_days_between_packets                 -0.035372               -0.054597   \n",
              "count_periods_between_packets              -0.033503               -0.047999   \n",
              "median_days_between_packets                -0.017672               -0.029053   \n",
              "mean_days_between_packets                  -0.023818               -0.037713   \n",
              "variance_days_between_packets              -0.016257               -0.023907   \n",
              "...                                              ...                     ...   \n",
              "calls_in_minutes_median                     0.610210                0.187156   \n",
              "calls_out_minutes_median                    0.227650                0.694050   \n",
              "calls_in_minutes_variance                   0.733641                0.322792   \n",
              "calls_out_minutes_variance                  0.353275                0.729094   \n",
              "is_bad                                     -0.024397               -0.036689   \n",
              "\n",
              "                               calls_in_minutes_median  \\\n",
              "count_days_between_packets                   -0.005192   \n",
              "count_periods_between_packets                -0.006523   \n",
              "median_days_between_packets                  -0.002129   \n",
              "mean_days_between_packets                    -0.003748   \n",
              "variance_days_between_packets                -0.003538   \n",
              "...                                                ...   \n",
              "calls_in_minutes_median                       1.000000   \n",
              "calls_out_minutes_median                      0.146717   \n",
              "calls_in_minutes_variance                     0.279183   \n",
              "calls_out_minutes_variance                    0.129991   \n",
              "is_bad                                       -0.005400   \n",
              "\n",
              "                               calls_out_minutes_median  \\\n",
              "count_days_between_packets                    -0.019783   \n",
              "count_periods_between_packets                 -0.017255   \n",
              "median_days_between_packets                   -0.012429   \n",
              "mean_days_between_packets                     -0.015415   \n",
              "variance_days_between_packets                 -0.010167   \n",
              "...                                                 ...   \n",
              "calls_in_minutes_median                        0.146717   \n",
              "calls_out_minutes_median                       1.000000   \n",
              "calls_in_minutes_variance                      0.134294   \n",
              "calls_out_minutes_variance                     0.312250   \n",
              "is_bad                                        -0.014976   \n",
              "\n",
              "                               calls_in_minutes_variance  \\\n",
              "count_days_between_packets                     -0.008967   \n",
              "count_periods_between_packets                  -0.009422   \n",
              "median_days_between_packets                    -0.002778   \n",
              "mean_days_between_packets                      -0.004972   \n",
              "variance_days_between_packets                  -0.004915   \n",
              "...                                                  ...   \n",
              "calls_in_minutes_median                         0.279183   \n",
              "calls_out_minutes_median                        0.134294   \n",
              "calls_in_minutes_variance                       1.000000   \n",
              "calls_out_minutes_variance                      0.372753   \n",
              "is_bad                                         -0.006975   \n",
              "\n",
              "                               calls_out_minutes_variance    is_bad  \n",
              "count_days_between_packets                      -0.021014  0.167995  \n",
              "count_periods_between_packets                   -0.018583  0.135134  \n",
              "median_days_between_packets                     -0.010101  0.084890  \n",
              "mean_days_between_packets                       -0.013974  0.108915  \n",
              "variance_days_between_packets                   -0.009409  0.075813  \n",
              "...                                                   ...       ...  \n",
              "calls_in_minutes_median                          0.129991 -0.005400  \n",
              "calls_out_minutes_median                         0.312250 -0.014976  \n",
              "calls_in_minutes_variance                        0.372753 -0.006975  \n",
              "calls_out_minutes_variance                       1.000000 -0.012975  \n",
              "is_bad                                          -0.012975  1.000000  \n",
              "\n",
              "[68 rows x 68 columns]"
            ]
          },
          "execution_count": 34,
          "metadata": {},
          "output_type": "execute_result"
        }
      ],
      "source": [
        "corr"
      ]
    },
    {
      "cell_type": "code",
      "execution_count": null,
      "id": "2d6ac3b4",
      "metadata": {
        "id": "2d6ac3b4",
        "outputId": "6b094c9d-71ae-4008-a6cd-c2f0aa4cecd9"
      },
      "outputs": [
        {
          "name": "stdout",
          "output_type": "stream",
          "text": [
            "Коеффициенты Пирсона\n",
            "median_days_between_packets\n",
            "{'mean_days_between_packets': 0.9561078047150543}\n",
            "\n",
            "mean_days_between_packets\n",
            "{'median_days_between_packets': 0.9561078047150543}\n",
            "\n",
            "age\n",
            "{'age_come_YOTA': 0.98775150073048}\n",
            "\n",
            "age_come_YOTA\n",
            "{'age': 0.98775150073048}\n",
            "\n",
            "sum_refill_part_1\n",
            "{'sum_refill_part_2': 0.8871452063201147}\n",
            "\n",
            "sum_refill_part_2\n",
            "{'sum_refill_part_1': 0.8871452063201147}\n",
            "\n",
            "sum_payments_part_1\n",
            "{'sum_payments_part_2': 0.925541533830894}\n",
            "\n",
            "sum_payments_part_2\n",
            "{'sum_payments_part_1': 0.925541533830894}\n",
            "\n",
            "price_options_0\n",
            "{'count_options_0': 0.8468564081856897}\n",
            "\n",
            "count_options_0\n",
            "{'price_options_0': 0.8468564081856897}\n",
            "\n",
            "price_options_1\n",
            "{'count_options_1': 0.8410069680421537}\n",
            "\n",
            "count_options_1\n",
            "{'price_options_1': 0.8410069680421537}\n",
            "\n",
            "price_options_2\n",
            "{'count_options_2': 0.8381782414663353}\n",
            "\n",
            "count_options_2\n",
            "{'price_options_2': 0.8381782414663353}\n",
            "\n",
            "calls_out_cnt_calls\n",
            "{'calls_out_minutes': 0.8133968644386048}\n",
            "\n",
            "calls_out_minutes\n",
            "{'calls_out_cnt_calls': 0.8133968644386048}\n",
            "\n"
          ]
        }
      ],
      "source": [
        "print('Коеффициенты Пирсона')\n",
        "for column in corr.columns:\n",
        "    a = corr[column].loc[(corr[column] > 0.8) & (corr[column] != 1)]\n",
        "    if len(a) != 0:\n",
        "        print(corr[column].name)\n",
        "        print(dict(a))\n",
        "        print() "
      ]
    },
    {
      "cell_type": "markdown",
      "id": "ea4cd1d3",
      "metadata": {
        "id": "ea4cd1d3"
      },
      "source": [
        "Так как компьютер не справляется с обработкой такого количества информатиции, придется выбросить часть признаков, удалим те скорелированные так как их удаление не приведет к значительной потери информации"
      ]
    },
    {
      "cell_type": "code",
      "execution_count": null,
      "id": "7b065576",
      "metadata": {
        "id": "7b065576"
      },
      "outputs": [],
      "source": [
        "corr_columns = ['mean_days_between_packets',  'age', 'sum_refill_part_2', 'sum_payments_part_2', 'count_options_0', 'count_options_1',\n",
        "'count_options_2', 'calls_out_cnt_calls']"
      ]
    },
    {
      "cell_type": "code",
      "execution_count": null,
      "id": "e389e81b",
      "metadata": {
        "id": "e389e81b"
      },
      "outputs": [],
      "source": [
        "spearman = np.abs(data[class_cols].corr('spearman'))"
      ]
    },
    {
      "cell_type": "code",
      "execution_count": null,
      "id": "4870dade",
      "metadata": {
        "id": "4870dade",
        "outputId": "3ff90628-3bc0-45d0-b1ad-8d2b15818758"
      },
      "outputs": [
        {
          "name": "stdout",
          "output_type": "stream",
          "text": [
            "Коеффициенты спирмана \n"
          ]
        }
      ],
      "source": [
        "print('Коеффициенты спирмана ')\n",
        "for column in spearman.columns[:len(spearman.columns)]:\n",
        "    a = spearman[column].loc[(spearman[column] > 0.5)  & (spearman[column] != 1)]\n",
        "    if len(a) != 0:\n",
        "        print(spearman[column].name)\n",
        "        print(dict(a))\n",
        "        print()"
      ]
    },
    {
      "cell_type": "markdown",
      "id": "f1670c87",
      "metadata": {
        "id": "f1670c87"
      },
      "source": [
        "корелируют между собой однообразные признаки, сгенерированные на основе тех же показателей. Коеффициент спирмана использовал чтоб оценить корреляцию качественных признаков, к слову она оказалась совсем незначительной"
      ]
    },
    {
      "cell_type": "markdown",
      "id": "e6f339be",
      "metadata": {
        "id": "e6f339be"
      },
      "source": [
        "### проверка стат-тестами\n",
        "c) для того чтоб оценить отличия по признакам, по каждому признаку выдвинем нулевую гипотезу о том что в данных нет отличий в зависимости от группы соответственно H1 будет обратной: \"данные отличаются в зависимости от группы\".\n",
        "\n",
        "Уровень значимости возьмем alpha = 5%, и будем использовать z статистику так как  выборка довольно большая (ссылка)\n",
        "\n",
        "Для удобства соберу все в цикл и буду выводить только название колонок где p-значение превышает установленный уровень значимости"
      ]
    },
    {
      "cell_type": "code",
      "execution_count": null,
      "id": "50bcea0b",
      "metadata": {
        "id": "50bcea0b"
      },
      "outputs": [],
      "source": [
        "from scipy import stats"
      ]
    },
    {
      "cell_type": "code",
      "execution_count": null,
      "id": "d00d3492",
      "metadata": {
        "id": "d00d3492"
      },
      "outputs": [],
      "source": [
        "def pooled_standard_error(a, b, unbias=False):\n",
        "    '''Объединенная стандартная ошибка'''\n",
        "    std1 = a.std(ddof=0) if unbias==False else a.std() \n",
        "    std2 = b.std(ddof=0) if unbias==False else b.std()\n",
        "    x = std1 ** 2 / a.shape[0]\n",
        "    y = std2 ** 2 / b.shape[0]\n",
        "    return np.sqrt(x + y)\n",
        "\n",
        "def z_stat(a, b, unbias=False):\n",
        "    return (a.mean() - b.mean()) / pooled_standard_error(a, b, unbias)\n",
        "\n",
        "def z_test(a, b): \n",
        "    z = stats.norm.cdf([ z_stat(a, b) ])[0]\n",
        "    return z\n",
        "\n",
        "def testing(column, alpha):\n",
        "    '''Сравнение данных по группам'''\n",
        "    groups = data.groupby('is_bad')[column]\n",
        "    a = groups.get_group(0)\n",
        "    b = groups.get_group(1) \n",
        "    if z_test(a, b) < alpha:\n",
        "        print(column)\n",
        "        print('a n:         ', a.count())\n",
        "        print('b n:         ', b.count())\n",
        "        print('z-статистика:', z_stat(a, b))\n",
        "        print('p-значение:  ', z_test(a, b))\n",
        "    else:\n",
        "        return column"
      ]
    },
    {
      "cell_type": "code",
      "execution_count": null,
      "id": "3d57172f",
      "metadata": {
        "id": "3d57172f",
        "outputId": "69c36f2a-d634-4f28-b645-0674631461b0"
      },
      "outputs": [
        {
          "name": "stdout",
          "output_type": "stream",
          "text": [
            "count_days_between_packets\n",
            "a n:          983587\n",
            "b n:          57473\n",
            "z-статистика: -120.30176495176184\n",
            "p-значение:   0.0\n",
            "count_periods_between_packets\n",
            "a n:          983587\n",
            "b n:          57473\n",
            "z-статистика: -131.7004174705109\n",
            "p-значение:   0.0\n",
            "median_days_between_packets\n",
            "a n:          983587\n",
            "b n:          57473\n",
            "z-статистика: -66.76823393206227\n",
            "p-значение:   0.0\n",
            "mean_days_between_packets\n",
            "a n:          983587\n",
            "b n:          57473\n",
            "z-статистика: -85.30774748592339\n",
            "p-значение:   0.0\n",
            "variance_days_between_packets\n",
            "a n:          983587\n",
            "b n:          57473\n",
            "z-статистика: -43.510611376274504\n",
            "p-значение:   0.0\n",
            "age_come_YOTA\n",
            "a n:          983587\n",
            "b n:          57473\n",
            "z-статистика: -14.135957829703163\n",
            "p-значение:   1.140051872358163e-45\n",
            "sum_payments_part_1\n",
            "a n:          983587\n",
            "b n:          57473\n",
            "z-статистика: -30.4480494729268\n",
            "p-значение:   6.356414060761042e-204\n",
            "count_payments_part_1\n",
            "a n:          983587\n",
            "b n:          57473\n",
            "z-статистика: -54.00321669641308\n",
            "p-значение:   0.0\n",
            "sum_payments_2\n",
            "a n:          983587\n",
            "b n:          57473\n",
            "z-статистика: -2.317829801356642\n",
            "p-значение:   0.010229286392261635\n",
            "sum_payments_part_2\n",
            "a n:          983587\n",
            "b n:          57473\n",
            "z-статистика: -29.781249690583618\n",
            "p-значение:   3.416903427913028e-195\n",
            "count_payments_part_2\n",
            "a n:          983587\n",
            "b n:          57473\n",
            "z-статистика: -55.84804635311788\n",
            "p-значение:   0.0\n",
            "price_packet_2\n",
            "a n:          983587\n",
            "b n:          57473\n",
            "z-статистика: -9.83302238804559\n",
            "p-значение:   4.057308402093431e-23\n",
            "count_payment_resourses_90d\n",
            "a n:          983587\n",
            "b n:          57473\n",
            "z-статистика: -7.289410320062038\n",
            "p-значение:   1.5565728779725033e-13\n",
            "count_bad\n",
            "a n:          983587\n",
            "b n:          57473\n",
            "z-статистика: -33.071713663736645\n",
            "p-значение:   3.791534798979431e-240\n",
            "count_smartphone\n",
            "a n:          983587\n",
            "b n:          57473\n",
            "z-статистика: -3.8562351942575477\n",
            "p-значение:   5.757335316755508e-05\n",
            "is_bad\n",
            "a n:          983587\n",
            "b n:          57473\n",
            "z-статистика: -inf\n",
            "p-значение:   0.0\n"
          ]
        }
      ],
      "source": [
        "h0_columns = []\n",
        "for column in continous_cols:\n",
        "    if testing(column, alpha=0.05):\n",
        "        h0_columns.append(testing(column, alpha=0.05))"
      ]
    },
    {
      "cell_type": "code",
      "execution_count": null,
      "id": "0b4cdbb4",
      "metadata": {
        "id": "0b4cdbb4",
        "outputId": "b5688145-085a-45ee-cbbd-511e9727314d"
      },
      "outputs": [
        {
          "data": {
            "text/plain": [
              "['months_in_YOTA',\n",
              " 'count_account_id',\n",
              " 'age',\n",
              " 'sum_refill_0',\n",
              " 'count_refill_0',\n",
              " 'sum_refill_1',\n",
              " 'count_refill_1',\n",
              " 'sum_refill_part_1',\n",
              " 'count_refill_part_1',\n",
              " 'sum_refill_2',\n",
              " 'count_refill_2',\n",
              " 'sum_refill_part_2',\n",
              " 'count_refill_part_2',\n",
              " 'sum_payments_0',\n",
              " 'count_payments_0',\n",
              " 'sum_payments_1',\n",
              " 'count_payments_1',\n",
              " 'count_payments_2',\n",
              " 'price_options_0',\n",
              " 'count_options_0',\n",
              " 'price_options_1',\n",
              " 'count_options_1',\n",
              " 'price_options_part_1',\n",
              " 'count_options_part_1',\n",
              " 'price_options_2',\n",
              " 'count_options_2',\n",
              " 'price_options_part_2',\n",
              " 'count_options_part_2',\n",
              " 'price_packet_0',\n",
              " 'price_packet_1',\n",
              " 'price_packet_part_1',\n",
              " 'price_packet_part_2',\n",
              " 'count_beauty_number',\n",
              " 'count_numbers',\n",
              " 'count_verification',\n",
              " 'count_good',\n",
              " 'calls_minutes_part_YOTA',\n",
              " 'count_tablet',\n",
              " 'count_modem',\n",
              " 'count_mikrocredit_sms',\n",
              " 'calls_in_cnt_calls',\n",
              " 'calls_out_cnt_calls',\n",
              " 'calls_in_cnt_uniq_opps',\n",
              " 'calls_out_cnt_uniq_opps',\n",
              " 'calls_in_minutes',\n",
              " 'calls_out_minutes',\n",
              " 'calls_in_minutes_mean',\n",
              " 'calls_out_minutes_mean',\n",
              " 'calls_in_minutes_median',\n",
              " 'calls_out_minutes_median',\n",
              " 'calls_in_minutes_variance',\n",
              " 'calls_out_minutes_variance']"
            ]
          },
          "execution_count": 42,
          "metadata": {},
          "output_type": "execute_result"
        }
      ],
      "source": [
        "h0_columns"
      ]
    },
    {
      "cell_type": "markdown",
      "id": "4b72e946",
      "metadata": {
        "id": "4b72e946"
      },
      "source": [
        "для выведенных столбцов мы отвергаем нулевую гипотезу о том что в данных нет значимых отличий, для остальных (собранных в лист h0_columns) принимаем\n",
        "\n",
        "получили статистически важные различия как раз в тех столбцах (и в скореллированных с ними) в которых и на графиках были заметны отличия"
      ]
    },
    {
      "cell_type": "markdown",
      "id": "c9dccb0d",
      "metadata": {
        "id": "c9dccb0d"
      },
      "source": [
        "Так как существуют признаки сильно скореллированные между собой (по сути приносящие одинаковую информацию) и по скольку мощность моего домашнего компьютера не позволяет мне работать эффективно с датасетом (даже с алгоритмами класстеризации optics, dbscan не справляется компьютер) данного размера, я понижу размерность.\n",
        "\n",
        "До того как сделать вывод о том какие переменые стоит убрать, построю еще логистическую регрессию с L1 регуляризацией чтоб посмотреть какие фичи она занулит, но перед этим стоит шкалировать признаки для того чтоб можно было в следствии интерпертировать коеффициенты"
      ]
    },
    {
      "cell_type": "code",
      "execution_count": null,
      "id": "a09968df",
      "metadata": {
        "id": "a09968df"
      },
      "outputs": [],
      "source": [
        "from sklearn.preprocessing import StandardScaler\n",
        "\n",
        "X = data[X_cols].values\n",
        "\n",
        "y = data['is_bad'].values\n",
        "\n",
        "X = StandardScaler().fit_transform(X)"
      ]
    },
    {
      "cell_type": "code",
      "execution_count": null,
      "id": "047883fa",
      "metadata": {
        "id": "047883fa"
      },
      "outputs": [],
      "source": [
        "from sklearn.linear_model import LogisticRegression\n",
        "\n",
        "log_clf = LogisticRegression(C=1, penalty='l1', solver='liblinear')\\\n",
        "                                                    .fit(X, y)"
      ]
    },
    {
      "cell_type": "code",
      "execution_count": null,
      "id": "cd74ecab",
      "metadata": {
        "id": "cd74ecab",
        "outputId": "e055cfa1-4a49-42c7-9a45-ab884ee3a157"
      },
      "outputs": [
        {
          "name": "stdout",
          "output_type": "stream",
          "text": [
            "roc_auc_score:  0.5209523257618857\n",
            "recall_score:  0.7986358811963878\n",
            "precision_score:  0.058085751780220726\n"
          ]
        }
      ],
      "source": [
        "from sklearn.metrics import roc_auc_score, recall_score, precision_score, confusion_matrix\n",
        "print('roc_auc_score: ', roc_auc_score(data['is_bad'], log_clf.predict(data[X_cols])))\n",
        "print('recall_score: ', recall_score(data['is_bad'], log_clf.predict(data[X_cols])))\n",
        "print('precision_score: ', precision_score(data['is_bad'], log_clf.predict(data[X_cols])))"
      ]
    },
    {
      "cell_type": "markdown",
      "id": "4fa98551",
      "metadata": {
        "id": "4fa98551"
      },
      "source": [
        "Так как у нас специфика задачи такая чтоб и не отдать слишком много кредитов которые не вернут, но и не отказывать добросовестным пользователям чтоб не испортить их user expirience мы должны максимизировать и precision и recall держа баланс между ними. \n",
        "\n",
        "Но вообще надо бы посчитать сколько нам стоят ошибка первого рода и сколько вторая чтоб лучше определить цель (в численном виде)\n",
        "\n",
        "Мне кажется что критичнее ситуация когда отдали кредит и человек не вернул поэтому выгоднее максимизировать TP"
      ]
    },
    {
      "cell_type": "code",
      "execution_count": null,
      "id": "0b225829",
      "metadata": {
        "id": "0b225829",
        "outputId": "89344d4a-9389-4e26-eb02-3078f8e3baab"
      },
      "outputs": [
        {
          "data": {
            "text/plain": [
              "0    1039329\n",
              "1       1731\n",
              "dtype: int64"
            ]
          },
          "execution_count": 31,
          "metadata": {},
          "output_type": "execute_result"
        }
      ],
      "source": [
        "pd.Series(log_clf.predict(X)).value_counts()"
      ]
    },
    {
      "cell_type": "markdown",
      "id": "a83fcd26",
      "metadata": {
        "id": "a83fcd26"
      },
      "source": [
        "Большое количество ошибок FN, посмотрим какие фичи модель занулила"
      ]
    },
    {
      "cell_type": "code",
      "execution_count": null,
      "id": "62003349",
      "metadata": {
        "id": "62003349",
        "outputId": "b5faadaa-ec2d-44c8-f5df-897abb94bf4e"
      },
      "outputs": [
        {
          "data": {
            "text/plain": [
              "(0.17618958879726698, 0.4719796750977146)"
            ]
          },
          "execution_count": 32,
          "metadata": {},
          "output_type": "execute_result"
        }
      ],
      "source": [
        "(np.abs(log_clf.coef_).mean(), np.abs(log_clf.coef_).std())"
      ]
    },
    {
      "cell_type": "code",
      "execution_count": null,
      "id": "93249f66",
      "metadata": {
        "id": "93249f66"
      },
      "outputs": [],
      "source": [
        "coefs = np.abs(log_clf.coef_)"
      ]
    },
    {
      "cell_type": "code",
      "execution_count": null,
      "id": "815a08d2",
      "metadata": {
        "id": "815a08d2",
        "outputId": "ed30dc2f-644d-406e-cc0a-d1e74e2b3d0d"
      },
      "outputs": [
        {
          "name": "stdout",
          "output_type": "stream",
          "text": [
            "calls_in_minutes\n",
            "count_payments_1\n",
            "sum_refill_2\n",
            "calls_out_cnt_calls\n",
            "count_payments_part_1\n",
            "calls_out_minutes_median\n",
            "sum_payments_part_1\n",
            "count_mikrocredit_sms\n",
            "price_options_part_2\n",
            "price_options_2\n",
            "sum_refill_part_2\n",
            "count_options_1\n",
            "calls_in_minutes_median\n",
            "price_options_part_1\n",
            "count_modem\n",
            "count_refill_1\n",
            "variance_days_between_packets\n",
            "price_packet_2\n",
            "is_Russia\n",
            "count_options_2\n",
            "count_payments_2\n",
            "price_options_1\n",
            "calls_in_cnt_uniq_opps\n",
            "sum_refill_0\n",
            "sum_refill_1\n",
            "count_options_part_2\n",
            "cdi_gender\n",
            "count_options_part_1\n",
            "calls_out_minutes_variance\n",
            "count_payments_part_2\n",
            "sum_refill_part_1\n",
            "count_verification\n",
            "count_tablet\n",
            "count_refill_part_1\n",
            "count_refill_0\n",
            "calls_minutes_part_YOTA\n",
            "sum_payments_part_2\n",
            "count_payments_0\n",
            "count_refill_part_2\n",
            "count_beauty_number\n",
            "is_rus_pasport\n",
            "calls_in_minutes_variance\n",
            "count_refill_2\n",
            "43\n"
          ]
        }
      ],
      "source": [
        "counter = 0\n",
        "for i in range(log_clf.coef_.shape[1]):\n",
        "    if np.abs(log_clf.coef_)[0, i] < np.abs(log_clf.coef_).mean()/3:\n",
        "        print(X_cols[i])\n",
        "        counter += 1\n",
        "print(counter)"
      ]
    },
    {
      "cell_type": "markdown",
      "id": "2abdb289",
      "metadata": {
        "id": "2abdb289"
      },
      "source": [
        "Пока не буду удалять признаки на основе решения log_clf, так как она занулила большинство фичей и делает предсказание на основе топ 10-15"
      ]
    },
    {
      "cell_type": "markdown",
      "id": "716496e7",
      "metadata": {
        "id": "716496e7"
      },
      "source": [
        "уберем параметры которые попадут в обьеденение столбцов сильно скорелированных (оставим по одному из пары) и тех в которых не обнаруженно различие по группам статистическими тестами, для того чтоб сильнее обезопасится от выбрасывания важных столбцов.\n",
        "\n",
        "Запишу их в переменную"
      ]
    },
    {
      "cell_type": "code",
      "execution_count": null,
      "id": "0434a3a9",
      "metadata": {
        "id": "0434a3a9"
      },
      "outputs": [],
      "source": [
        "X_cols_small = list(set(X_cols) - set((corr_columns + h0_columns)))"
      ]
    },
    {
      "cell_type": "markdown",
      "id": "f9b4978e",
      "metadata": {
        "id": "f9b4978e"
      },
      "source": [
        "### Снижение размерности\n",
        "4) Алгоритмы понижения размерности можно разделить на 2 основные группы: они пытаются сохранить либо глобальную структуру данных, либо локальные расстояния между точками. К первым относятся такие алгоритмы как Метод главных компонент (PCA), а ко вторым — t-SNE или более эфективный UMAP. https://habr.com/ru/company/newprolab/blog/350584/\n",
        "\n",
        "Я буду использовать алгоритм PCA так как остальные алгоритмы слишком долго считались."
      ]
    },
    {
      "cell_type": "code",
      "execution_count": null,
      "id": "ccc973cb",
      "metadata": {
        "id": "ccc973cb"
      },
      "outputs": [],
      "source": [
        "from sklearn.decomposition import PCA\n",
        "\n",
        "pca = PCA(n_components=2)\n",
        "\n",
        "principalComponents = pca.fit_transform(X)\n",
        "\n",
        "principalDf = pd.DataFrame(data = principalComponents , columns = ['principal component 1', 'principal component 2'])"
      ]
    },
    {
      "cell_type": "code",
      "execution_count": null,
      "id": "eb752ca6",
      "metadata": {
        "id": "eb752ca6"
      },
      "outputs": [],
      "source": [
        "finalDf = pd.concat([principalDf, data[['is_bad']]], axis = 1)"
      ]
    },
    {
      "cell_type": "code",
      "execution_count": null,
      "id": "eeb892a9",
      "metadata": {
        "scrolled": true,
        "id": "eeb892a9",
        "outputId": "e4ceb3d8-2e42-4a9f-efab-424b840703af"
      },
      "outputs": [
        {
          "data": {
            "image/png": "[encoded data removed]",
            "text/plain": [
              "<Figure size 576x576 with 1 Axes>"
            ]
          },
          "metadata": {
            "needs_background": "light"
          },
          "output_type": "display_data"
        }
      ],
      "source": [
        "fig = plt.figure(figsize = (8,8))\n",
        "ax = fig.add_subplot(1,1,1) \n",
        "ax.set_xlabel('Principal Component 1', fontsize = 15)\n",
        "ax.set_ylabel('Principal Component 2', fontsize = 15)\n",
        "ax.set_title('2 component PCA', fontsize = 20)\n",
        "targets = ['Bad', 'Good']\n",
        "colors = ['red', 'blue']\n",
        "\n",
        "ax.scatter(finalDf.loc[finalDf['is_bad'] == 0, 'principal component 1']\n",
        "           , finalDf.loc[finalDf['is_bad'] == 0, 'principal component 2']\n",
        "           , c = colors[0]\n",
        "           , s = 50)\n",
        "\n",
        "ax.scatter(finalDf.loc[finalDf['is_bad'] == 1, 'principal component 1']\n",
        "           , finalDf.loc[finalDf['is_bad'] == 1, 'principal component 2']\n",
        "           , c = colors[1]\n",
        "           , s = 50)\n",
        "\n",
        "ax.legend(targets)\n",
        "ax.grid()"
      ]
    },
    {
      "cell_type": "markdown",
      "id": "44a9dbed",
      "metadata": {
        "id": "44a9dbed"
      },
      "source": [
        "двух признаков недостаточно для того чтоб хорошо разделить классы, но видно что сильные откланения от центров облак свидетельствует о принодлежности точки к классу Bad"
      ]
    },
    {
      "cell_type": "markdown",
      "id": "7ec7d49a",
      "metadata": {
        "id": "7ec7d49a"
      },
      "source": [
        "b) предстоит выбрать алгоритм кластеризации, наше преемущество в том что мы знаем сколько кластеров мы хотим получить но негативная особенность это большой размер датасета, для этой задачи лучше подойдет Birch. \n",
        "https://scikit-learn.ru/clustering/#birch\n",
        "\n",
        "DBscan, Birch и optics слишком долго обучаются на моем компьютере, ниже\n",
        "попытка исправить ситуацию и обьяснение к ней.\n",
        "\n",
        "В итоге я использую быстрый Kmeans"
      ]
    },
    {
      "cell_type": "code",
      "execution_count": null,
      "id": "bb58285e",
      "metadata": {
        "id": "bb58285e"
      },
      "outputs": [],
      "source": [
        "from sklearn.cluster import OPTICS, DBSCAN, KMeans, Birch\n",
        "import matplotlib.gridspec as gridspec\n",
        "import matplotlib.pyplot as plt"
      ]
    },
    {
      "cell_type": "code",
      "execution_count": null,
      "id": "c330def4",
      "metadata": {
        "id": "c330def4"
      },
      "outputs": [],
      "source": [
        "clust = KMeans(n_clusters=2)"
      ]
    },
    {
      "cell_type": "code",
      "execution_count": null,
      "id": "baecb8e4",
      "metadata": {
        "id": "baecb8e4"
      },
      "outputs": [],
      "source": [
        "from sklearn.model_selection import train_test_split\n",
        "#пробывал понизить размер датасета до (200k; 18)\n",
        "X_20, X_80 = train_test_split(data[X_cols], test_size=.8, stratify=data['is_bad'])"
      ]
    },
    {
      "cell_type": "code",
      "execution_count": null,
      "id": "db05e7a5",
      "metadata": {
        "id": "db05e7a5",
        "outputId": "64a3d339-6bc1-4f4f-acd7-a0ce7f1152c7"
      },
      "outputs": [
        {
          "name": "stdout",
          "output_type": "stream",
          "text": [
            "CPU times: user 45.1 s, sys: 2.28 s, total: 47.4 s\n",
            "Wall time: 15.2 s\n"
          ]
        },
        {
          "data": {
            "text/html": [
              "<style>#sk-container-id-1 {color: black;background-color: white;}#sk-container-id-1 pre{padding: 0;}#sk-container-id-1 div.sk-toggleable {background-color: white;}#sk-container-id-1 label.sk-toggleable__label {cursor: pointer;display: block;width: 100%;margin-bottom: 0;padding: 0.3em;box-sizing: border-box;text-align: center;}#sk-container-id-1 label.sk-toggleable__label-arrow:before {content: \"▸\";float: left;margin-right: 0.25em;color: #696969;}#sk-container-id-1 label.sk-toggleable__label-arrow:hover:before {color: black;}#sk-container-id-1 div.sk-estimator:hover label.sk-toggleable__label-arrow:before {color: black;}#sk-container-id-1 div.sk-toggleable__content {max-height: 0;max-width: 0;overflow: hidden;text-align: left;background-color: #f0f8ff;}#sk-container-id-1 div.sk-toggleable__content pre {margin: 0.2em;color: black;border-radius: 0.25em;background-color: #f0f8ff;}#sk-container-id-1 input.sk-toggleable__control:checked~div.sk-toggleable__content {max-height: 200px;max-width: 100%;overflow: auto;}#sk-container-id-1 input.sk-toggleable__control:checked~label.sk-toggleable__label-arrow:before {content: \"▾\";}#sk-container-id-1 div.sk-estimator input.sk-toggleable__control:checked~label.sk-toggleable__label {background-color: #d4ebff;}#sk-container-id-1 div.sk-label input.sk-toggleable__control:checked~label.sk-toggleable__label {background-color: #d4ebff;}#sk-container-id-1 input.sk-hidden--visually {border: 0;clip: rect(1px 1px 1px 1px);clip: rect(1px, 1px, 1px, 1px);height: 1px;margin: -1px;overflow: hidden;padding: 0;position: absolute;width: 1px;}#sk-container-id-1 div.sk-estimator {font-family: monospace;background-color: #f0f8ff;border: 1px dotted black;border-radius: 0.25em;box-sizing: border-box;margin-bottom: 0.5em;}#sk-container-id-1 div.sk-estimator:hover {background-color: #d4ebff;}#sk-container-id-1 div.sk-parallel-item::after {content: \"\";width: 100%;border-bottom: 1px solid gray;flex-grow: 1;}#sk-container-id-1 div.sk-label:hover label.sk-toggleable__label {background-color: #d4ebff;}#sk-container-id-1 div.sk-serial::before {content: \"\";position: absolute;border-left: 1px solid gray;box-sizing: border-box;top: 0;bottom: 0;left: 50%;z-index: 0;}#sk-container-id-1 div.sk-serial {display: flex;flex-direction: column;align-items: center;background-color: white;padding-right: 0.2em;padding-left: 0.2em;position: relative;}#sk-container-id-1 div.sk-item {position: relative;z-index: 1;}#sk-container-id-1 div.sk-parallel {display: flex;align-items: stretch;justify-content: center;background-color: white;position: relative;}#sk-container-id-1 div.sk-item::before, #sk-container-id-1 div.sk-parallel-item::before {content: \"\";position: absolute;border-left: 1px solid gray;box-sizing: border-box;top: 0;bottom: 0;left: 50%;z-index: -1;}#sk-container-id-1 div.sk-parallel-item {display: flex;flex-direction: column;z-index: 1;position: relative;background-color: white;}#sk-container-id-1 div.sk-parallel-item:first-child::after {align-self: flex-end;width: 50%;}#sk-container-id-1 div.sk-parallel-item:last-child::after {align-self: flex-start;width: 50%;}#sk-container-id-1 div.sk-parallel-item:only-child::after {width: 0;}#sk-container-id-1 div.sk-dashed-wrapped {border: 1px dashed gray;margin: 0 0.4em 0.5em 0.4em;box-sizing: border-box;padding-bottom: 0.4em;background-color: white;}#sk-container-id-1 div.sk-label label {font-family: monospace;font-weight: bold;display: inline-block;line-height: 1.2em;}#sk-container-id-1 div.sk-label-container {text-align: center;}#sk-container-id-1 div.sk-container {/* jupyter's `normalize.less` sets `[hidden] { display: none; }` but bootstrap.min.css set `[hidden] { display: none !important; }` so we also need the `!important` here to be able to override the default hidden behavior on the sphinx rendered scikit-learn.org. See: https://github.com/scikit-learn/scikit-learn/issues/21755 */display: inline-block !important;position: relative;}#sk-container-id-1 div.sk-text-repr-fallback {display: none;}</style><div id=\"sk-container-id-1\" class=\"sk-top-container\"><div class=\"sk-text-repr-fallback\"><pre>KMeans(n_clusters=2)</pre><b>In a Jupyter environment, please rerun this cell to show the HTML representation or trust the notebook. <br />On GitHub, the HTML representation is unable to render, please try loading this page with nbviewer.org.</b></div><div class=\"sk-container\" hidden><div class=\"sk-item\"><div class=\"sk-estimator sk-toggleable\"><input class=\"sk-toggleable__control sk-hidden--visually\" id=\"sk-estimator-id-1\" type=\"checkbox\" checked><label for=\"sk-estimator-id-1\" class=\"sk-toggleable__label sk-toggleable__label-arrow\">KMeans</label><div class=\"sk-toggleable__content\"><pre>KMeans(n_clusters=2)</pre></div></div></div></div></div>"
            ],
            "text/plain": [
              "KMeans(n_clusters=2)"
            ]
          },
          "execution_count": 52,
          "metadata": {},
          "output_type": "execute_result"
        }
      ],
      "source": [
        "%%time\n",
        "clust.fit(data[X_cols])"
      ]
    },
    {
      "cell_type": "code",
      "execution_count": null,
      "id": "2b314ac5",
      "metadata": {
        "id": "2b314ac5",
        "outputId": "ed2677a5-5b70-471c-e6a5-dac6e1d74c4c"
      },
      "outputs": [
        {
          "data": {
            "text/plain": [
              "0.5088219334414756"
            ]
          },
          "execution_count": 53,
          "metadata": {},
          "output_type": "execute_result"
        }
      ],
      "source": [
        "roc_auc_score(data['is_bad'], clust.predict(data[X_cols]))"
      ]
    },
    {
      "cell_type": "markdown",
      "id": "2a864ebe",
      "metadata": {
        "id": "2a864ebe"
      },
      "source": [
        "хотел использовать dbscan/optics/birch, но к сожалению компьютер не тянет обучение даже на датасете с размером (200k; 18), по этому пришлось использовать kmeans, хоть он и не справляется обычно даже с рядом классичских задач"
      ]
    },
    {
      "cell_type": "markdown",
      "id": "c735c717",
      "metadata": {
        "id": "c735c717"
      },
      "source": [
        "с) Ответим на вопрос сколько размерностей достаточно чтоб описать 90% исходной дисперсии, для этого используем алгоритм pca.\n",
        "\n",
        "Сразу провизуализируем результат"
      ]
    },
    {
      "cell_type": "code",
      "execution_count": null,
      "id": "1b267f9a",
      "metadata": {
        "id": "1b267f9a",
        "outputId": "865524d2-b45f-462b-967e-6b31b70f2a5f"
      },
      "outputs": [
        {
          "data": {
            "image/png": "[encoded data removed]",
            "text/plain": [
              "<Figure size 576x432 with 1 Axes>"
            ]
          },
          "metadata": {
            "needs_background": "light"
          },
          "output_type": "display_data"
        }
      ],
      "source": [
        "from sklearn.decomposition import PCA\n",
        "pca = PCA()\n",
        "pca.fit_transform(X)\n",
        "pca_variance = pca.explained_variance_ratio_\n",
        "\n",
        "plt.figure(figsize=(8, 6))\n",
        "plt.bar(range(72), pca_variance, alpha=0.5, align='center', label='individual variance')\n",
        "plt.legend()\n",
        "plt.ylabel('Variance ratio')\n",
        "plt.xlabel('Principal components')\n",
        "plt.show()"
      ]
    },
    {
      "cell_type": "markdown",
      "id": "0b582e46",
      "metadata": {
        "id": "0b582e46"
      },
      "source": [
        "по графику можем заметить несколько порогов, которые можем выбрать для решения сколько компонент выбрать, в районе 7 и 12"
      ]
    },
    {
      "cell_type": "code",
      "execution_count": null,
      "id": "8d123798",
      "metadata": {
        "id": "8d123798",
        "outputId": "2d573374-0a14-40c6-fd58-7d68d3d1ca85"
      },
      "outputs": [
        {
          "name": "stdout",
          "output_type": "stream",
          "text": [
            "чтоб обяснить 90% исходной дисперсии достаточно  39  размерностей\n"
          ]
        }
      ],
      "source": [
        "i = 0\n",
        "sum_ration = 0\n",
        "while sum_ration < 0.9:\n",
        "    sum_ration += pca_variance[i]\n",
        "    i += 1\n",
        "print('чтоб обяснить 90% исходной дисперсии достаточно ', i,' размерностей')"
      ]
    },
    {
      "cell_type": "code",
      "execution_count": null,
      "id": "88ef401a",
      "metadata": {
        "scrolled": true,
        "id": "88ef401a",
        "outputId": "1678ac6c-b4a2-454f-fcdc-436913a91cb8"
      },
      "outputs": [
        {
          "data": {
            "image/png": "[encoded data removed]",
            "text/plain": [
              "<Figure size 576x432 with 1 Axes>"
            ]
          },
          "metadata": {
            "needs_background": "light"
          },
          "output_type": "display_data"
        }
      ],
      "source": [
        "# посмотрим как на графике выделяются облака по классам\n",
        "pca2 = PCA(n_components=39)\n",
        "pca2.fit(X)\n",
        "x_3d = pca2.transform(X)\n",
        "\n",
        "plt.figure(figsize=(8,6))\n",
        "plt.scatter(x_3d[:,0], x_3d[:,5], c=data['is_bad'])\n",
        "plt.show()"
      ]
    },
    {
      "cell_type": "markdown",
      "id": "1c1e0083",
      "metadata": {
        "id": "1c1e0083"
      },
      "source": [
        "### Построение моделей классификации\n",
        "\n",
        "5) Начнем строить модели классификации, мы уже попробывали логистический классификатор возьмем его как бэйзлайн, дальше попробуем ансамбли: лес деревьев, и бустинги. \n",
        "\n",
        "Из бустингов соит попробывать тоже разные так как они отличаются реализацией например одно из отличий между xgboost и catboost это  то что catboost использует в качестве деревьев решающие таблицы (разновидность деревьев которая как раз были выведены для решения задачь с большим количеством нерелевантных признаков) которыйе к слову и очень эффективны так как в итоге получаем одну решающую таблицу (сумму всех остальных таблиц) что будет важно при большой нагрузке на систему.\n",
        "https://habr.com/ru/company/ods/blog/645887/"
      ]
    },
    {
      "cell_type": "code",
      "execution_count": null,
      "id": "7407440c",
      "metadata": {
        "id": "7407440c"
      },
      "outputs": [],
      "source": [
        "from sklearn.ensemble import RandomForestClassifier\n",
        "from catboost import CatBoostClassifier\n",
        "import xgboost as xgb\n",
        "from sklearn.neighbors import KNeighborsClassifier\n",
        "from sklearn.metrics import confusion_matrix, classification_report"
      ]
    },
    {
      "cell_type": "code",
      "execution_count": null,
      "id": "6ce837f0",
      "metadata": {
        "id": "6ce837f0"
      },
      "outputs": [],
      "source": [
        "X_train, X_test, y_train, y_test = train_test_split(data[X_cols],\\\n",
        "                                   data['is_bad'], test_size=.8, random_state=20, stratify=data['is_bad'])"
      ]
    },
    {
      "cell_type": "code",
      "execution_count": null,
      "id": "39db7b77",
      "metadata": {
        "id": "39db7b77"
      },
      "outputs": [],
      "source": [
        "train_dmatrix = xgb.DMatrix(data=X_train, label=y_train)"
      ]
    },
    {
      "cell_type": "code",
      "execution_count": null,
      "id": "6d181f3f",
      "metadata": {
        "id": "6d181f3f",
        "outputId": "7af32312-66d3-4f3a-fc49-0c91fd83048b"
      },
      "outputs": [
        {
          "name": "stdout",
          "output_type": "stream",
          "text": [
            "CPU times: user 19min 57s, sys: 3.75 s, total: 20min 1s\n",
            "Wall time: 20min 23s\n"
          ]
        }
      ],
      "source": [
        "%%time\n",
        "forest_clf = RandomForestClassifier(max_depth=10).fit(X_train, y_train)"
      ]
    },
    {
      "cell_type": "code",
      "execution_count": null,
      "id": "fcfe231a",
      "metadata": {
        "id": "fcfe231a",
        "outputId": "ac145268-8cc9-4f6b-f144-da5989c79c56"
      },
      "outputs": [
        {
          "name": "stdout",
          "output_type": "stream",
          "text": [
            "CPU times: user 1min 7s, sys: 673 ms, total: 1min 7s\n",
            "Wall time: 20.2 s\n"
          ]
        }
      ],
      "source": [
        "%%time\n",
        "cat_clf = CatBoostClassifier(silent=True, \n",
        "                             random_seed=42,).fit(X_train, y_train)"
      ]
    },
    {
      "cell_type": "code",
      "execution_count": null,
      "id": "b98dc877",
      "metadata": {
        "id": "b98dc877",
        "outputId": "7192de25-1d19-40a0-94d3-f9e660f81900"
      },
      "outputs": [
        {
          "name": "stdout",
          "output_type": "stream",
          "text": [
            "CPU times: user 3min 24s, sys: 1.03 s, total: 3min 25s\n",
            "Wall time: 57.1 s\n"
          ]
        },
        {
          "data": {
            "text/html": [
              "<style>#sk-container-id-2 {color: black;background-color: white;}#sk-container-id-2 pre{padding: 0;}#sk-container-id-2 div.sk-toggleable {background-color: white;}#sk-container-id-2 label.sk-toggleable__label {cursor: pointer;display: block;width: 100%;margin-bottom: 0;padding: 0.3em;box-sizing: border-box;text-align: center;}#sk-container-id-2 label.sk-toggleable__label-arrow:before {content: \"▸\";float: left;margin-right: 0.25em;color: #696969;}#sk-container-id-2 label.sk-toggleable__label-arrow:hover:before {color: black;}#sk-container-id-2 div.sk-estimator:hover label.sk-toggleable__label-arrow:before {color: black;}#sk-container-id-2 div.sk-toggleable__content {max-height: 0;max-width: 0;overflow: hidden;text-align: left;background-color: #f0f8ff;}#sk-container-id-2 div.sk-toggleable__content pre {margin: 0.2em;color: black;border-radius: 0.25em;background-color: #f0f8ff;}#sk-container-id-2 input.sk-toggleable__control:checked~div.sk-toggleable__content {max-height: 200px;max-width: 100%;overflow: auto;}#sk-container-id-2 input.sk-toggleable__control:checked~label.sk-toggleable__label-arrow:before {content: \"▾\";}#sk-container-id-2 div.sk-estimator input.sk-toggleable__control:checked~label.sk-toggleable__label {background-color: #d4ebff;}#sk-container-id-2 div.sk-label input.sk-toggleable__control:checked~label.sk-toggleable__label {background-color: #d4ebff;}#sk-container-id-2 input.sk-hidden--visually {border: 0;clip: rect(1px 1px 1px 1px);clip: rect(1px, 1px, 1px, 1px);height: 1px;margin: -1px;overflow: hidden;padding: 0;position: absolute;width: 1px;}#sk-container-id-2 div.sk-estimator {font-family: monospace;background-color: #f0f8ff;border: 1px dotted black;border-radius: 0.25em;box-sizing: border-box;margin-bottom: 0.5em;}#sk-container-id-2 div.sk-estimator:hover {background-color: #d4ebff;}#sk-container-id-2 div.sk-parallel-item::after {content: \"\";width: 100%;border-bottom: 1px solid gray;flex-grow: 1;}#sk-container-id-2 div.sk-label:hover label.sk-toggleable__label {background-color: #d4ebff;}#sk-container-id-2 div.sk-serial::before {content: \"\";position: absolute;border-left: 1px solid gray;box-sizing: border-box;top: 0;bottom: 0;left: 50%;z-index: 0;}#sk-container-id-2 div.sk-serial {display: flex;flex-direction: column;align-items: center;background-color: white;padding-right: 0.2em;padding-left: 0.2em;position: relative;}#sk-container-id-2 div.sk-item {position: relative;z-index: 1;}#sk-container-id-2 div.sk-parallel {display: flex;align-items: stretch;justify-content: center;background-color: white;position: relative;}#sk-container-id-2 div.sk-item::before, #sk-container-id-2 div.sk-parallel-item::before {content: \"\";position: absolute;border-left: 1px solid gray;box-sizing: border-box;top: 0;bottom: 0;left: 50%;z-index: -1;}#sk-container-id-2 div.sk-parallel-item {display: flex;flex-direction: column;z-index: 1;position: relative;background-color: white;}#sk-container-id-2 div.sk-parallel-item:first-child::after {align-self: flex-end;width: 50%;}#sk-container-id-2 div.sk-parallel-item:last-child::after {align-self: flex-start;width: 50%;}#sk-container-id-2 div.sk-parallel-item:only-child::after {width: 0;}#sk-container-id-2 div.sk-dashed-wrapped {border: 1px dashed gray;margin: 0 0.4em 0.5em 0.4em;box-sizing: border-box;padding-bottom: 0.4em;background-color: white;}#sk-container-id-2 div.sk-label label {font-family: monospace;font-weight: bold;display: inline-block;line-height: 1.2em;}#sk-container-id-2 div.sk-label-container {text-align: center;}#sk-container-id-2 div.sk-container {/* jupyter's `normalize.less` sets `[hidden] { display: none; }` but bootstrap.min.css set `[hidden] { display: none !important; }` so we also need the `!important` here to be able to override the default hidden behavior on the sphinx rendered scikit-learn.org. See: https://github.com/scikit-learn/scikit-learn/issues/21755 */display: inline-block !important;position: relative;}#sk-container-id-2 div.sk-text-repr-fallback {display: none;}</style><div id=\"sk-container-id-2\" class=\"sk-top-container\"><div class=\"sk-text-repr-fallback\"><pre>XGBClassifier(base_score=0.5, booster=&#x27;gbtree&#x27;, callbacks=None,\n",
              "              colsample_bylevel=1, colsample_bynode=1, colsample_bytree=1,\n",
              "              early_stopping_rounds=None, enable_categorical=False,\n",
              "              eval_metric=None, gamma=0, gpu_id=-1, grow_policy=&#x27;depthwise&#x27;,\n",
              "              importance_type=None, interaction_constraints=&#x27;&#x27;,\n",
              "              learning_rate=0.300000012, max_bin=256, max_cat_to_onehot=4,\n",
              "              max_delta_step=0, max_depth=6, max_leaves=0, min_child_weight=1,\n",
              "              missing=nan, monotone_constraints=&#x27;()&#x27;, n_estimators=100,\n",
              "              n_jobs=0, num_parallel_tree=1, predictor=&#x27;auto&#x27;, random_state=0,\n",
              "              reg_alpha=0, reg_lambda=1, ...)</pre><b>In a Jupyter environment, please rerun this cell to show the HTML representation or trust the notebook. <br />On GitHub, the HTML representation is unable to render, please try loading this page with nbviewer.org.</b></div><div class=\"sk-container\" hidden><div class=\"sk-item\"><div class=\"sk-estimator sk-toggleable\"><input class=\"sk-toggleable__control sk-hidden--visually\" id=\"sk-estimator-id-2\" type=\"checkbox\" checked><label for=\"sk-estimator-id-2\" class=\"sk-toggleable__label sk-toggleable__label-arrow\">XGBClassifier</label><div class=\"sk-toggleable__content\"><pre>XGBClassifier(base_score=0.5, booster=&#x27;gbtree&#x27;, callbacks=None,\n",
              "              colsample_bylevel=1, colsample_bynode=1, colsample_bytree=1,\n",
              "              early_stopping_rounds=None, enable_categorical=False,\n",
              "              eval_metric=None, gamma=0, gpu_id=-1, grow_policy=&#x27;depthwise&#x27;,\n",
              "              importance_type=None, interaction_constraints=&#x27;&#x27;,\n",
              "              learning_rate=0.300000012, max_bin=256, max_cat_to_onehot=4,\n",
              "              max_delta_step=0, max_depth=6, max_leaves=0, min_child_weight=1,\n",
              "              missing=nan, monotone_constraints=&#x27;()&#x27;, n_estimators=100,\n",
              "              n_jobs=0, num_parallel_tree=1, predictor=&#x27;auto&#x27;, random_state=0,\n",
              "              reg_alpha=0, reg_lambda=1, ...)</pre></div></div></div></div></div>"
            ],
            "text/plain": [
              "XGBClassifier(base_score=0.5, booster='gbtree', callbacks=None,\n",
              "              colsample_bylevel=1, colsample_bynode=1, colsample_bytree=1,\n",
              "              early_stopping_rounds=None, enable_categorical=False,\n",
              "              eval_metric=None, gamma=0, gpu_id=-1, grow_policy='depthwise',\n",
              "              importance_type=None, interaction_constraints='',\n",
              "              learning_rate=0.300000012, max_bin=256, max_cat_to_onehot=4,\n",
              "              max_delta_step=0, max_depth=6, max_leaves=0, min_child_weight=1,\n",
              "              missing=nan, monotone_constraints='()', n_estimators=100,\n",
              "              n_jobs=0, num_parallel_tree=1, predictor='auto', random_state=0,\n",
              "              reg_alpha=0, reg_lambda=1, ...)"
            ]
          },
          "execution_count": 63,
          "metadata": {},
          "output_type": "execute_result"
        }
      ],
      "source": [
        "%%time\n",
        "bst = xgb.XGBClassifier(objective='binary:logistic')\n",
        "bst.fit(X_train, y_train)"
      ]
    },
    {
      "cell_type": "markdown",
      "id": "0f65d9ef",
      "metadata": {
        "id": "0f65d9ef"
      },
      "source": [
        "результаты дерева"
      ]
    },
    {
      "cell_type": "code",
      "execution_count": null,
      "id": "ee45df18",
      "metadata": {
        "id": "ee45df18",
        "outputId": "255a1d34-a059-4f6b-f383-b320d67d24dd"
      },
      "outputs": [
        {
          "data": {
            "text/plain": [
              "array([[786555,    315],\n",
              "       [ 45381,    597]])"
            ]
          },
          "execution_count": 104,
          "metadata": {},
          "output_type": "execute_result"
        }
      ],
      "source": [
        "confusion_matrix(y_test, forest_clf.predict(X_test))"
      ]
    },
    {
      "cell_type": "code",
      "execution_count": null,
      "id": "8556bfe7",
      "metadata": {
        "scrolled": true,
        "id": "8556bfe7",
        "outputId": "ffc4574a-e174-4791-a8d2-85f5fd4093b6"
      },
      "outputs": [
        {
          "data": {
            "text/plain": [
              "0.506292075288836"
            ]
          },
          "execution_count": 105,
          "metadata": {},
          "output_type": "execute_result"
        }
      ],
      "source": [
        "roc_auc_score(y_test, forest_clf.predict(X_test))"
      ]
    },
    {
      "cell_type": "code",
      "execution_count": null,
      "id": "9163548d",
      "metadata": {
        "id": "9163548d",
        "outputId": "9c1a2e05-d59c-4d58-9b37-54079b7a86ef"
      },
      "outputs": [
        {
          "name": "stdout",
          "output_type": "stream",
          "text": [
            "              precision    recall  f1-score   support\n",
            "\n",
            "           0       0.95      1.00      0.97    786870\n",
            "           1       0.65      0.01      0.03     45978\n",
            "\n",
            "    accuracy                           0.95    832848\n",
            "   macro avg       0.80      0.51      0.50    832848\n",
            "weighted avg       0.93      0.95      0.92    832848\n",
            "\n"
          ]
        }
      ],
      "source": [
        "print(classification_report(y_test, forest_clf.predict(X_test)))"
      ]
    },
    {
      "cell_type": "markdown",
      "id": "feb9e3e4",
      "metadata": {
        "id": "feb9e3e4"
      },
      "source": [
        "дерево в большинстве предсказывает доминантный класс. Чтоб использовать данный алгоритм нужна балансировка классов"
      ]
    },
    {
      "cell_type": "markdown",
      "id": "ee4b6c2a",
      "metadata": {
        "id": "ee4b6c2a"
      },
      "source": [
        "результаты catboost"
      ]
    },
    {
      "cell_type": "code",
      "execution_count": null,
      "id": "ef386285",
      "metadata": {
        "id": "ef386285",
        "outputId": "cad9d7f7-a67d-448f-eee1-24499d43d166"
      },
      "outputs": [
        {
          "data": {
            "text/plain": [
              "array([[784685,   2185],\n",
              "       [ 43839,   2139]])"
            ]
          },
          "execution_count": 115,
          "metadata": {},
          "output_type": "execute_result"
        }
      ],
      "source": [
        "confusion_matrix(y_test, cat_clf.predict(X_test))"
      ]
    },
    {
      "cell_type": "code",
      "execution_count": null,
      "id": "763d7493",
      "metadata": {
        "id": "763d7493",
        "outputId": "16cb4023-e0f7-45c5-f4e3-2ff3a9016e07"
      },
      "outputs": [
        {
          "data": {
            "text/plain": [
              "0.5218727125686597"
            ]
          },
          "execution_count": 116,
          "metadata": {},
          "output_type": "execute_result"
        }
      ],
      "source": [
        "roc_auc_score(y_test, cat_clf.predict(X_test))"
      ]
    },
    {
      "cell_type": "code",
      "execution_count": null,
      "id": "d72131d0",
      "metadata": {
        "id": "d72131d0",
        "outputId": "5a3824bb-f294-4524-f7be-e10c0334290c"
      },
      "outputs": [
        {
          "name": "stdout",
          "output_type": "stream",
          "text": [
            "              precision    recall  f1-score   support\n",
            "\n",
            "           0       0.95      1.00      0.97    786870\n",
            "           1       0.49      0.05      0.09     45978\n",
            "\n",
            "    accuracy                           0.94    832848\n",
            "   macro avg       0.72      0.52      0.53    832848\n",
            "weighted avg       0.92      0.94      0.92    832848\n",
            "\n"
          ]
        }
      ],
      "source": [
        "print(classification_report(y_test, cat_clf.predict(X_test)))"
      ]
    },
    {
      "cell_type": "markdown",
      "id": "1c8d31eb",
      "metadata": {
        "id": "1c8d31eb"
      },
      "source": [
        "Результат xgboost"
      ]
    },
    {
      "cell_type": "code",
      "execution_count": null,
      "id": "f88320df",
      "metadata": {
        "id": "f88320df",
        "outputId": "b938f531-b8fd-4c6f-add4-92c8cc292222"
      },
      "outputs": [
        {
          "data": {
            "text/plain": [
              "array([[783334,   3536],\n",
              "       [ 42693,   3285]])"
            ]
          },
          "execution_count": 67,
          "metadata": {},
          "output_type": "execute_result"
        }
      ],
      "source": [
        "confusion_matrix(y_test, bst.predict(X_test))"
      ]
    },
    {
      "cell_type": "code",
      "execution_count": null,
      "id": "30e9e974",
      "metadata": {
        "id": "30e9e974",
        "outputId": "046cfa04-3463-4779-aaf7-22345c0d6ed2"
      },
      "outputs": [
        {
          "data": {
            "text/plain": [
              "0    826027\n",
              "1      6821\n",
              "dtype: int64"
            ]
          },
          "execution_count": 68,
          "metadata": {},
          "output_type": "execute_result"
        }
      ],
      "source": [
        "pd.Series(bst.predict(X_test)).value_counts()"
      ]
    },
    {
      "cell_type": "code",
      "execution_count": null,
      "id": "aeb9367f",
      "metadata": {
        "id": "aeb9367f",
        "outputId": "7f8bf86f-3d40-4a24-fdc9-79e02b2a0bf5"
      },
      "outputs": [
        {
          "data": {
            "text/plain": [
              "0.5334767300758781"
            ]
          },
          "execution_count": 69,
          "metadata": {},
          "output_type": "execute_result"
        }
      ],
      "source": [
        "roc_auc_score(y_test, bst.predict(X_test))"
      ]
    },
    {
      "cell_type": "code",
      "execution_count": null,
      "id": "6400dbce",
      "metadata": {
        "id": "6400dbce",
        "outputId": "59712b0c-b7d4-493a-fd8d-a7f34c63f0fc"
      },
      "outputs": [
        {
          "name": "stdout",
          "output_type": "stream",
          "text": [
            "              precision    recall  f1-score   support\n",
            "\n",
            "           0       0.95      1.00      0.97    786870\n",
            "           1       0.48      0.07      0.12     45978\n",
            "\n",
            "    accuracy                           0.94    832848\n",
            "   macro avg       0.71      0.53      0.55    832848\n",
            "weighted avg       0.92      0.94      0.92    832848\n",
            "\n"
          ]
        }
      ],
      "source": [
        "print(classification_report(y_test, bst.predict(X_test)))"
      ]
    },
    {
      "cell_type": "markdown",
      "id": "0516abb5",
      "metadata": {
        "id": "0516abb5"
      },
      "source": [
        "Лучше результат показал xgboost (f1 precision)"
      ]
    },
    {
      "cell_type": "markdown",
      "id": "3615e936",
      "metadata": {
        "id": "3615e936"
      },
      "source": [
        "Найдем топ 11 признаков среди коеффициентов логистической регрессии обученой ранее"
      ]
    },
    {
      "cell_type": "code",
      "execution_count": null,
      "id": "a167e4f5",
      "metadata": {
        "id": "a167e4f5"
      },
      "outputs": [],
      "source": [
        "top_features_df = pd.DataFrame({'coefs': coefs[0], 'column_names': X_cols}).sort_values(by='coefs', ascending=False)"
      ]
    },
    {
      "cell_type": "code",
      "execution_count": null,
      "id": "7d2dcc74",
      "metadata": {
        "id": "7d2dcc74",
        "outputId": "fe33fa9b-6b07-490e-e704-aaa36accdad9"
      },
      "outputs": [
        {
          "data": {
            "text/plain": [
              "51                    age\n",
              "7           age_come_YOTA\n",
              "22       count_account_id\n",
              "36       count_smartphone\n",
              "70             count_good\n",
              "             ...         \n",
              "26    count_refill_part_2\n",
              "55        price_options_1\n",
              "3       sum_refill_part_2\n",
              "31           count_tablet\n",
              "69      sum_refill_part_1\n",
              "Name: column_names, Length: 72, dtype: object"
            ]
          },
          "execution_count": 74,
          "metadata": {},
          "output_type": "execute_result"
        }
      ],
      "source": [
        "top_features_df.column_names"
      ]
    },
    {
      "cell_type": "markdown",
      "id": "3d06906b",
      "metadata": {
        "id": "3d06906b"
      },
      "source": [
        "уберем из топа по одному из пар силльно скореллированых колонок, в данном случае 'age'"
      ]
    },
    {
      "cell_type": "code",
      "execution_count": null,
      "id": "06d778b4",
      "metadata": {
        "scrolled": true,
        "id": "06d778b4",
        "outputId": "4279e38e-8d0b-4543-f36e-f6cdb4c239a0"
      },
      "outputs": [
        {
          "data": {
            "text/plain": [
              "7                     age_come_YOTA\n",
              "22                 count_account_id\n",
              "36                 count_smartphone\n",
              "70                       count_good\n",
              "48       count_days_between_packets\n",
              "17              price_packet_part_1\n",
              "28                           is_mnp\n",
              "53                   price_packet_0\n",
              "66              price_packet_part_2\n",
              "57    count_periods_between_packets\n",
              "6           calls_out_cnt_uniq_opps\n",
              "Name: column_names, dtype: object"
            ]
          },
          "execution_count": 75,
          "metadata": {},
          "output_type": "execute_result"
        }
      ],
      "source": [
        "top_cols = top_features_df.loc[top_features_df['column_names'] != 'age', 'column_names'].iloc[:11]\n",
        "top_cols"
      ]
    },
    {
      "cell_type": "markdown",
      "id": "a7a699e9",
      "metadata": {
        "id": "a7a699e9"
      },
      "source": [
        "Посмотрим еще на feature importance у catboost и xgboost"
      ]
    },
    {
      "cell_type": "code",
      "execution_count": null,
      "id": "e5c43d44",
      "metadata": {
        "id": "e5c43d44"
      },
      "outputs": [],
      "source": [
        "cat_coefs = cat_clf.get_feature_importance()"
      ]
    },
    {
      "cell_type": "code",
      "execution_count": null,
      "id": "b23e960f",
      "metadata": {
        "id": "b23e960f"
      },
      "outputs": [],
      "source": [
        "top_features_cat = pd.DataFrame({'coefs': cat_coefs, 'column_names': X_train.columns}).sort_values(by='coefs', ascending=False)"
      ]
    },
    {
      "cell_type": "markdown",
      "id": "e9462ead",
      "metadata": {
        "id": "e9462ead"
      },
      "source": [
        "в топе присутствую скореллированные между собой признаки, удалим по одномк из пар"
      ]
    },
    {
      "cell_type": "code",
      "execution_count": null,
      "id": "b22b64fa",
      "metadata": {
        "id": "b22b64fa",
        "outputId": "4b5d5177-936d-4e43-d0c7-d3f2bf4268d2"
      },
      "outputs": [
        {
          "data": {
            "text/plain": [
              "22                 count_account_id\n",
              "70                       count_good\n",
              "61                   months_in_YOTA\n",
              "48       count_days_between_packets\n",
              "36                 count_smartphone\n",
              "28                           is_mnp\n",
              "57    count_periods_between_packets\n",
              "20            count_payments_part_1\n",
              "51                              age\n",
              "4             calls_in_minutes_mean\n",
              "69                sum_refill_part_1\n",
              "Name: column_names, dtype: object"
            ]
          },
          "execution_count": 82,
          "metadata": {},
          "output_type": "execute_result"
        }
      ],
      "source": [
        "top_cols_cat = top_features_cat.loc[(top_features_cat['column_names'] != 'median_days_between_packets') & \\\n",
        "                                    (top_features_cat['column_names'] != 'variance_days_between_packets') & \\\n",
        "                                    (top_features_cat['column_names'] != 'count_payments_part_2') & \\\n",
        "                                    (top_features_cat['column_names'] != 'mean_days_between_packets') \n",
        "                                    , 'column_names'].iloc[:11]\n",
        "top_cols_cat"
      ]
    },
    {
      "cell_type": "markdown",
      "id": "10ab7dcb",
      "metadata": {
        "id": "10ab7dcb"
      },
      "source": [
        "топ признаков в от части совпадает с тем что у логистичческой моделью, но не полностью\n",
        "\n",
        "Посмотрим feature importance и у xgboost"
      ]
    },
    {
      "cell_type": "code",
      "execution_count": null,
      "id": "f1b81e1e",
      "metadata": {
        "id": "f1b81e1e"
      },
      "outputs": [],
      "source": [
        "bst_coefs = bst.feature_importances_\n",
        "top_features_xgb = pd.DataFrame({'coefs': bst_coefs, 'column_names': X_train.columns}).sort_values(by='coefs', ascending=False)"
      ]
    },
    {
      "cell_type": "code",
      "execution_count": null,
      "id": "aeb9840b",
      "metadata": {
        "id": "aeb9840b",
        "outputId": "f7e8a712-ffee-42c2-af99-0108c09d9380"
      },
      "outputs": [
        {
          "data": {
            "text/html": [
              "<div>\n",
              "<style scoped>\n",
              "    .dataframe tbody tr th:only-of-type {\n",
              "        vertical-align: middle;\n",
              "    }\n",
              "\n",
              "    .dataframe tbody tr th {\n",
              "        vertical-align: top;\n",
              "    }\n",
              "\n",
              "    .dataframe thead th {\n",
              "        text-align: right;\n",
              "    }\n",
              "</style>\n",
              "<table border=\"1\" class=\"dataframe\">\n",
              "  <thead>\n",
              "    <tr style=\"text-align: right;\">\n",
              "      <th></th>\n",
              "      <th>coefs</th>\n",
              "      <th>column_names</th>\n",
              "    </tr>\n",
              "  </thead>\n",
              "  <tbody>\n",
              "    <tr>\n",
              "      <th>65</th>\n",
              "      <td>0.072921</td>\n",
              "      <td>mean_days_between_packets</td>\n",
              "    </tr>\n",
              "    <tr>\n",
              "      <th>22</th>\n",
              "      <td>0.067068</td>\n",
              "      <td>count_account_id</td>\n",
              "    </tr>\n",
              "    <tr>\n",
              "      <th>17</th>\n",
              "      <td>0.058081</td>\n",
              "      <td>price_packet_part_1</td>\n",
              "    </tr>\n",
              "    <tr>\n",
              "      <th>61</th>\n",
              "      <td>0.038764</td>\n",
              "      <td>months_in_YOTA</td>\n",
              "    </tr>\n",
              "    <tr>\n",
              "      <th>70</th>\n",
              "      <td>0.037154</td>\n",
              "      <td>count_good</td>\n",
              "    </tr>\n",
              "    <tr>\n",
              "      <th>28</th>\n",
              "      <td>0.034162</td>\n",
              "      <td>is_mnp</td>\n",
              "    </tr>\n",
              "    <tr>\n",
              "      <th>36</th>\n",
              "      <td>0.028213</td>\n",
              "      <td>count_smartphone</td>\n",
              "    </tr>\n",
              "    <tr>\n",
              "      <th>58</th>\n",
              "      <td>0.028168</td>\n",
              "      <td>count_bad</td>\n",
              "    </tr>\n",
              "    <tr>\n",
              "      <th>53</th>\n",
              "      <td>0.017197</td>\n",
              "      <td>price_packet_0</td>\n",
              "    </tr>\n",
              "    <tr>\n",
              "      <th>57</th>\n",
              "      <td>0.016248</td>\n",
              "      <td>count_periods_between_packets</td>\n",
              "    </tr>\n",
              "    <tr>\n",
              "      <th>37</th>\n",
              "      <td>0.015763</td>\n",
              "      <td>sum_payments_0</td>\n",
              "    </tr>\n",
              "  </tbody>\n",
              "</table>\n",
              "</div>"
            ],
            "text/plain": [
              "       coefs                   column_names\n",
              "65  0.072921      mean_days_between_packets\n",
              "22  0.067068               count_account_id\n",
              "17  0.058081            price_packet_part_1\n",
              "61  0.038764                 months_in_YOTA\n",
              "70  0.037154                     count_good\n",
              "28  0.034162                         is_mnp\n",
              "36  0.028213               count_smartphone\n",
              "58  0.028168                      count_bad\n",
              "53  0.017197                 price_packet_0\n",
              "57  0.016248  count_periods_between_packets\n",
              "37  0.015763                 sum_payments_0"
            ]
          },
          "execution_count": 107,
          "metadata": {},
          "output_type": "execute_result"
        }
      ],
      "source": [
        "top_cols_xgb = top_features_xgb.loc[(top_features_xgb['column_names'] != 'median_days_between_packets') &\\\n",
        "                                    (top_features_xgb['column_names'] != 'count_days_between_packets') &\\\n",
        "                                   (top_features_xgb['column_names'] != 'variance_days_between_packets')].iloc[:11]\n",
        "top_cols_xgb"
      ]
    },
    {
      "cell_type": "markdown",
      "id": "60f5ac8e",
      "metadata": {
        "id": "60f5ac8e"
      },
      "source": [
        "Обучимся на этих признаках"
      ]
    },
    {
      "cell_type": "code",
      "execution_count": null,
      "id": "a900fa0d",
      "metadata": {
        "id": "a900fa0d"
      },
      "outputs": [],
      "source": [
        "top_cols = list(top_cols_xgb.column_names)"
      ]
    },
    {
      "cell_type": "code",
      "execution_count": null,
      "id": "a0434c9c",
      "metadata": {
        "id": "a0434c9c"
      },
      "outputs": [],
      "source": [
        "X_train, X_test, y_train, y_test = train_test_split(data[top_cols],\\\n",
        "                                   data['is_bad'], test_size=.8, random_state=20, stratify=data['is_bad'])"
      ]
    },
    {
      "cell_type": "code",
      "execution_count": null,
      "id": "875fd2fa",
      "metadata": {
        "id": "875fd2fa",
        "outputId": "bf5c662c-741a-4687-af76-cde84ee31d0a"
      },
      "outputs": [
        {
          "data": {
            "text/html": [
              "<style>#sk-container-id-3 {color: black;background-color: white;}#sk-container-id-3 pre{padding: 0;}#sk-container-id-3 div.sk-toggleable {background-color: white;}#sk-container-id-3 label.sk-toggleable__label {cursor: pointer;display: block;width: 100%;margin-bottom: 0;padding: 0.3em;box-sizing: border-box;text-align: center;}#sk-container-id-3 label.sk-toggleable__label-arrow:before {content: \"▸\";float: left;margin-right: 0.25em;color: #696969;}#sk-container-id-3 label.sk-toggleable__label-arrow:hover:before {color: black;}#sk-container-id-3 div.sk-estimator:hover label.sk-toggleable__label-arrow:before {color: black;}#sk-container-id-3 div.sk-toggleable__content {max-height: 0;max-width: 0;overflow: hidden;text-align: left;background-color: #f0f8ff;}#sk-container-id-3 div.sk-toggleable__content pre {margin: 0.2em;color: black;border-radius: 0.25em;background-color: #f0f8ff;}#sk-container-id-3 input.sk-toggleable__control:checked~div.sk-toggleable__content {max-height: 200px;max-width: 100%;overflow: auto;}#sk-container-id-3 input.sk-toggleable__control:checked~label.sk-toggleable__label-arrow:before {content: \"▾\";}#sk-container-id-3 div.sk-estimator input.sk-toggleable__control:checked~label.sk-toggleable__label {background-color: #d4ebff;}#sk-container-id-3 div.sk-label input.sk-toggleable__control:checked~label.sk-toggleable__label {background-color: #d4ebff;}#sk-container-id-3 input.sk-hidden--visually {border: 0;clip: rect(1px 1px 1px 1px);clip: rect(1px, 1px, 1px, 1px);height: 1px;margin: -1px;overflow: hidden;padding: 0;position: absolute;width: 1px;}#sk-container-id-3 div.sk-estimator {font-family: monospace;background-color: #f0f8ff;border: 1px dotted black;border-radius: 0.25em;box-sizing: border-box;margin-bottom: 0.5em;}#sk-container-id-3 div.sk-estimator:hover {background-color: #d4ebff;}#sk-container-id-3 div.sk-parallel-item::after {content: \"\";width: 100%;border-bottom: 1px solid gray;flex-grow: 1;}#sk-container-id-3 div.sk-label:hover label.sk-toggleable__label {background-color: #d4ebff;}#sk-container-id-3 div.sk-serial::before {content: \"\";position: absolute;border-left: 1px solid gray;box-sizing: border-box;top: 0;bottom: 0;left: 50%;z-index: 0;}#sk-container-id-3 div.sk-serial {display: flex;flex-direction: column;align-items: center;background-color: white;padding-right: 0.2em;padding-left: 0.2em;position: relative;}#sk-container-id-3 div.sk-item {position: relative;z-index: 1;}#sk-container-id-3 div.sk-parallel {display: flex;align-items: stretch;justify-content: center;background-color: white;position: relative;}#sk-container-id-3 div.sk-item::before, #sk-container-id-3 div.sk-parallel-item::before {content: \"\";position: absolute;border-left: 1px solid gray;box-sizing: border-box;top: 0;bottom: 0;left: 50%;z-index: -1;}#sk-container-id-3 div.sk-parallel-item {display: flex;flex-direction: column;z-index: 1;position: relative;background-color: white;}#sk-container-id-3 div.sk-parallel-item:first-child::after {align-self: flex-end;width: 50%;}#sk-container-id-3 div.sk-parallel-item:last-child::after {align-self: flex-start;width: 50%;}#sk-container-id-3 div.sk-parallel-item:only-child::after {width: 0;}#sk-container-id-3 div.sk-dashed-wrapped {border: 1px dashed gray;margin: 0 0.4em 0.5em 0.4em;box-sizing: border-box;padding-bottom: 0.4em;background-color: white;}#sk-container-id-3 div.sk-label label {font-family: monospace;font-weight: bold;display: inline-block;line-height: 1.2em;}#sk-container-id-3 div.sk-label-container {text-align: center;}#sk-container-id-3 div.sk-container {/* jupyter's `normalize.less` sets `[hidden] { display: none; }` but bootstrap.min.css set `[hidden] { display: none !important; }` so we also need the `!important` here to be able to override the default hidden behavior on the sphinx rendered scikit-learn.org. See: https://github.com/scikit-learn/scikit-learn/issues/21755 */display: inline-block !important;position: relative;}#sk-container-id-3 div.sk-text-repr-fallback {display: none;}</style><div id=\"sk-container-id-3\" class=\"sk-top-container\"><div class=\"sk-text-repr-fallback\"><pre>XGBClassifier(base_score=0.5, booster=&#x27;gbtree&#x27;, callbacks=None,\n",
              "              colsample_bylevel=1, colsample_bynode=1, colsample_bytree=1,\n",
              "              early_stopping_rounds=None, enable_categorical=False,\n",
              "              eval_metric=None, gamma=0, gpu_id=-1, grow_policy=&#x27;depthwise&#x27;,\n",
              "              importance_type=None, interaction_constraints=&#x27;&#x27;,\n",
              "              learning_rate=0.300000012, max_bin=256, max_cat_to_onehot=4,\n",
              "              max_delta_step=0, max_depth=6, max_leaves=0, min_child_weight=1,\n",
              "              missing=nan, monotone_constraints=&#x27;()&#x27;, n_estimators=100,\n",
              "              n_jobs=0, num_parallel_tree=1, predictor=&#x27;auto&#x27;, random_state=0,\n",
              "              reg_alpha=0, reg_lambda=1, ...)</pre><b>In a Jupyter environment, please rerun this cell to show the HTML representation or trust the notebook. <br />On GitHub, the HTML representation is unable to render, please try loading this page with nbviewer.org.</b></div><div class=\"sk-container\" hidden><div class=\"sk-item\"><div class=\"sk-estimator sk-toggleable\"><input class=\"sk-toggleable__control sk-hidden--visually\" id=\"sk-estimator-id-3\" type=\"checkbox\" checked><label for=\"sk-estimator-id-3\" class=\"sk-toggleable__label sk-toggleable__label-arrow\">XGBClassifier</label><div class=\"sk-toggleable__content\"><pre>XGBClassifier(base_score=0.5, booster=&#x27;gbtree&#x27;, callbacks=None,\n",
              "              colsample_bylevel=1, colsample_bynode=1, colsample_bytree=1,\n",
              "              early_stopping_rounds=None, enable_categorical=False,\n",
              "              eval_metric=None, gamma=0, gpu_id=-1, grow_policy=&#x27;depthwise&#x27;,\n",
              "              importance_type=None, interaction_constraints=&#x27;&#x27;,\n",
              "              learning_rate=0.300000012, max_bin=256, max_cat_to_onehot=4,\n",
              "              max_delta_step=0, max_depth=6, max_leaves=0, min_child_weight=1,\n",
              "              missing=nan, monotone_constraints=&#x27;()&#x27;, n_estimators=100,\n",
              "              n_jobs=0, num_parallel_tree=1, predictor=&#x27;auto&#x27;, random_state=0,\n",
              "              reg_alpha=0, reg_lambda=1, ...)</pre></div></div></div></div></div>"
            ],
            "text/plain": [
              "XGBClassifier(base_score=0.5, booster='gbtree', callbacks=None,\n",
              "              colsample_bylevel=1, colsample_bynode=1, colsample_bytree=1,\n",
              "              early_stopping_rounds=None, enable_categorical=False,\n",
              "              eval_metric=None, gamma=0, gpu_id=-1, grow_policy='depthwise',\n",
              "              importance_type=None, interaction_constraints='',\n",
              "              learning_rate=0.300000012, max_bin=256, max_cat_to_onehot=4,\n",
              "              max_delta_step=0, max_depth=6, max_leaves=0, min_child_weight=1,\n",
              "              missing=nan, monotone_constraints='()', n_estimators=100,\n",
              "              n_jobs=0, num_parallel_tree=1, predictor='auto', random_state=0,\n",
              "              reg_alpha=0, reg_lambda=1, ...)"
            ]
          },
          "execution_count": 97,
          "metadata": {},
          "output_type": "execute_result"
        }
      ],
      "source": [
        "cat_clf = CatBoostClassifier(silent=True).fit(X_train, y_train)\n",
        "bst = xgb.XGBClassifier(objective='binary:logistic')\n",
        "bst.fit(X_train, y_train)"
      ]
    },
    {
      "cell_type": "code",
      "execution_count": null,
      "id": "d5894db7",
      "metadata": {
        "id": "d5894db7",
        "outputId": "79ea528c-da59-4052-9380-117bb57b0047"
      },
      "outputs": [
        {
          "name": "stdout",
          "output_type": "stream",
          "text": [
            "CPU times: user 1.16 s, sys: 53.3 ms, total: 1.21 s\n",
            "Wall time: 923 ms\n"
          ]
        }
      ],
      "source": [
        "%%time\n",
        "log_clf = LogisticRegression(C=1, penalty='l1', solver='liblinear').fit(X_train, y_train)"
      ]
    },
    {
      "cell_type": "code",
      "execution_count": null,
      "id": "514ac987",
      "metadata": {
        "id": "514ac987",
        "outputId": "c6ed5438-4201-428c-b053-cffd6fb78b68"
      },
      "outputs": [
        {
          "name": "stdout",
          "output_type": "stream",
          "text": [
            "результаты для catboost \n",
            " [[784686   2184]\n",
            " [ 43833   2145]] 0.5219385965947929\n"
          ]
        }
      ],
      "source": [
        "print('результаты для catboost \\n',\\\n",
        "      confusion_matrix(y_test, cat_clf.predict(X_test)),\\\n",
        "      roc_auc_score(y_test, cat_clf.predict(X_test)))"
      ]
    },
    {
      "cell_type": "code",
      "execution_count": null,
      "id": "e0ba1977",
      "metadata": {
        "id": "e0ba1977",
        "outputId": "dac45db3-77c2-447d-b09c-b9859a7abb61"
      },
      "outputs": [
        {
          "name": "stdout",
          "output_type": "stream",
          "text": [
            "результаты для xgboost \n",
            " [[784899   1971]\n",
            " [ 44036   1942]] 0.5198663654300459\n"
          ]
        }
      ],
      "source": [
        "print('результаты для xgboost \\n', \\\n",
        "      confusion_matrix(y_test, bst.predict(X_test)),\\\n",
        "      roc_auc_score(y_test, bst.predict(X_test)))"
      ]
    },
    {
      "cell_type": "code",
      "execution_count": null,
      "id": "1b319d44",
      "metadata": {
        "id": "1b319d44",
        "outputId": "be59aba5-3842-4890-b9f8-e7c681d604b5"
      },
      "outputs": [
        {
          "name": "stdout",
          "output_type": "stream",
          "text": [
            "результаты для log_clf \n",
            " [[786346    524]\n",
            " [ 45747    231]] 0.5021791062059476\n"
          ]
        }
      ],
      "source": [
        "print('результаты для log_clf \\n', \\\n",
        "      confusion_matrix(y_test, log_clf.predict(X_test)),\\\n",
        "      roc_auc_score(y_test, log_clf.predict(X_test)))"
      ]
    },
    {
      "cell_type": "markdown",
      "id": "1d26e74f",
      "metadata": {
        "id": "1d26e74f"
      },
      "source": [
        "В общем метрики стали не сильно хуже так что можем считать успешным решение предсказывать только на топ 11 признаках так как это эффективнее и понижаем возможное заучивание ложных зависимостей. Сделав обрезку параметров, мы потеряли небольшой обьем информации но при этом избегаем переобучение."
      ]
    },
    {
      "cell_type": "markdown",
      "id": "03913857",
      "metadata": {
        "id": "03913857"
      },
      "source": [
        "6) Для того чтоб прогнозировать количество is_bad в новом периоде будем решать задачу временных рядов. (авторегрессия)\n",
        "\n",
        "Для этого сформируем датасет x = месяц, y = доля is_bad "
      ]
    },
    {
      "cell_type": "code",
      "execution_count": null,
      "id": "6abdd0ac",
      "metadata": {
        "id": "6abdd0ac"
      },
      "outputs": [],
      "source": [
        "data['X'] = data['claim_fd'].apply(lambda x: int(x[:4])*12  + int(x[5:7]))"
      ]
    },
    {
      "cell_type": "code",
      "execution_count": null,
      "id": "8381b3ec",
      "metadata": {
        "id": "8381b3ec"
      },
      "outputs": [],
      "source": [
        "# нормализуем \n",
        "data['X'] -= data['X'].min()"
      ]
    },
    {
      "cell_type": "code",
      "execution_count": null,
      "id": "9dbb65a5",
      "metadata": {
        "id": "9dbb65a5",
        "outputId": "f4ecfec4-3e75-4e49-e7fe-2ec363001e50"
      },
      "outputs": [
        {
          "data": {
            "text/plain": [
              "4    232650\n",
              "3    221016\n",
              "2    208839\n",
              "1    207527\n",
              "5    124729\n",
              "0     46299\n",
              "Name: X, dtype: int64"
            ]
          },
          "execution_count": 80,
          "metadata": {},
          "output_type": "execute_result"
        }
      ],
      "source": [
        "data['X'].value_counts()"
      ]
    },
    {
      "cell_type": "markdown",
      "id": "d63cc128",
      "metadata": {
        "id": "d63cc128"
      },
      "source": [
        "по 6 точкам будет сложно хорошо предсказывать седьмую\n",
        "\n",
        "построим фичу is_bad_rate"
      ]
    },
    {
      "cell_type": "code",
      "execution_count": null,
      "id": "00c907b1",
      "metadata": {
        "id": "00c907b1"
      },
      "outputs": [],
      "source": [
        "data['is_bad_rate'] = np.ones(data.shape[0])"
      ]
    },
    {
      "cell_type": "code",
      "execution_count": null,
      "id": "09273c94",
      "metadata": {
        "id": "09273c94",
        "outputId": "134f861c-e80f-4161-a37c-432e3ab8682b"
      },
      "outputs": [
        {
          "name": "stdout",
          "output_type": "stream",
          "text": [
            "0\n",
            "1\n",
            "2\n",
            "3\n",
            "4\n",
            "5\n"
          ]
        }
      ],
      "source": [
        "for i in range(6):\n",
        "    print(i)\n",
        "    data.loc[data['X'] == i, 'is_bad_rate'] = data.loc[data['X'] == i, 'is_bad'].mean()"
      ]
    },
    {
      "cell_type": "code",
      "execution_count": null,
      "id": "e2a6f83b",
      "metadata": {
        "id": "e2a6f83b",
        "outputId": "95b7586b-2e8b-4f1d-ea4e-78c78afd575c"
      },
      "outputs": [
        {
          "data": {
            "text/plain": [
              "<AxesSubplot:xlabel='X', ylabel='is_bad_rate'>"
            ]
          },
          "execution_count": 83,
          "metadata": {},
          "output_type": "execute_result"
        },
        {
          "data": {
            "image/png": "[encoded data removed]",
            "text/plain": [
              "<Figure size 432x288 with 1 Axes>"
            ]
          },
          "metadata": {
            "needs_background": "light"
          },
          "output_type": "display_data"
        }
      ],
      "source": [
        "sns.lineplot(x=data['X'], y=data['is_bad_rate'], )"
      ]
    },
    {
      "cell_type": "markdown",
      "id": "85988337",
      "metadata": {
        "id": "85988337"
      },
      "source": [
        "В классическом варианте решения задачи времянного ряда, надо ряд привести к стационарному виду (убрать периодичность, тренд и стандартизировать y (E(x)=0, D(x)=1)) но тут я проведу только стандартизацию"
      ]
    },
    {
      "cell_type": "code",
      "execution_count": null,
      "id": "9991d714",
      "metadata": {
        "id": "9991d714"
      },
      "outputs": [],
      "source": [
        "scaler = StandardScaler()"
      ]
    },
    {
      "cell_type": "code",
      "execution_count": null,
      "id": "9ca22d18",
      "metadata": {
        "id": "9ca22d18"
      },
      "outputs": [],
      "source": [
        "scaler.fit(data[['is_bad_rate']])\n",
        "data[['is_bad_rate_scaled']] = scaler.transform(data[['is_bad_rate']])"
      ]
    },
    {
      "cell_type": "code",
      "execution_count": null,
      "id": "ef62098f",
      "metadata": {
        "id": "ef62098f",
        "outputId": "14a96b01-95e6-41a7-eca8-77617f9a5a61"
      },
      "outputs": [
        {
          "data": {
            "text/plain": [
              "<AxesSubplot:xlabel='X', ylabel='is_bad_rate_scaled'>"
            ]
          },
          "execution_count": 86,
          "metadata": {},
          "output_type": "execute_result"
        },
        {
          "data": {
            "image/png": "[encoded data removed]",
            "text/plain": [
              "<Figure size 432x288 with 1 Axes>"
            ]
          },
          "metadata": {
            "needs_background": "light"
          },
          "output_type": "display_data"
        }
      ],
      "source": [
        "sns.lineplot(x=data['X'], y=data['is_bad_rate_scaled'])"
      ]
    },
    {
      "cell_type": "code",
      "execution_count": null,
      "id": "f29c249e",
      "metadata": {
        "id": "f29c249e"
      },
      "outputs": [],
      "source": [
        "import statsmodels.api as sm\n",
        "from scipy import stats\n",
        "from statsmodels.tsa.arima.model import ARIMA\n",
        "from statsmodels.graphics.api import qqplot"
      ]
    },
    {
      "cell_type": "code",
      "execution_count": null,
      "id": "54fa79a3",
      "metadata": {
        "id": "54fa79a3"
      },
      "outputs": [],
      "source": [
        "dta = data['is_bad_rate_scaled'].copy()\n",
        "dta.index = data['X']"
      ]
    },
    {
      "cell_type": "code",
      "execution_count": null,
      "id": "a1282f01",
      "metadata": {
        "id": "a1282f01",
        "outputId": "791d9e55-c394-4ca0-b782-2d08aef34359"
      },
      "outputs": [
        {
          "name": "stderr",
          "output_type": "stream",
          "text": [
            "/usr/local/lib/python3.9/site-packages/statsmodels/graphics/tsaplots.py:348: FutureWarning: The default method 'yw' can produce PACF values outside of the [-1,1] interval. After 0.13, the default will change tounadjusted Yule-Walker ('ywm'). You can use this method now by setting method='ywm'.\n",
            "  warnings.warn(\n"
          ]
        },
        {
          "data": {
            "image/png": "[encoded data removed]",
            "text/plain": [
              "<Figure size 432x288 with 1 Axes>"
            ]
          },
          "execution_count": 89,
          "metadata": {},
          "output_type": "execute_result"
        },
        {
          "data": {
            "image/png": "[encoded data removed]",
            "text/plain": [
              "<Figure size 432x288 with 1 Axes>"
            ]
          },
          "metadata": {
            "needs_background": "light"
          },
          "output_type": "display_data"
        }
      ],
      "source": [
        "sm.graphics.tsa.plot_pacf(dta, lags=5)"
      ]
    },
    {
      "cell_type": "code",
      "execution_count": null,
      "id": "08aee8ea",
      "metadata": {
        "id": "08aee8ea"
      },
      "outputs": [],
      "source": [
        "df = data.sort_values(by='X')[['X', 'is_bad_rate_scaled']].drop_duplicates()"
      ]
    },
    {
      "cell_type": "code",
      "execution_count": null,
      "id": "5358035b",
      "metadata": {
        "id": "5358035b"
      },
      "outputs": [],
      "source": [
        "df.index = df.X"
      ]
    },
    {
      "cell_type": "code",
      "execution_count": null,
      "id": "3674fc74",
      "metadata": {
        "scrolled": true,
        "id": "3674fc74",
        "outputId": "6955fb2b-be56-402a-974b-e0b84d098e28"
      },
      "outputs": [
        {
          "name": "stderr",
          "output_type": "stream",
          "text": [
            "/usr/local/lib/python3.9/site-packages/statsmodels/tsa/statespace/sarimax.py:866: UserWarning: Too few observations to estimate starting parameters for ARMA and trend. All parameters except for variances will be set to zeros.\n",
            "  warn('Too few observations to estimate starting parameters%s.'\n"
          ]
        },
        {
          "data": {
            "text/plain": [
              "[<matplotlib.lines.Line2D at 0x1311d17c0>]"
            ]
          },
          "execution_count": 92,
          "metadata": {},
          "output_type": "execute_result"
        },
        {
          "data": {
            "image/png": "[encoded data removed]",
            "text/plain": [
              "<Figure size 432x288 with 1 Axes>"
            ]
          },
          "metadata": {
            "needs_background": "light"
          },
          "output_type": "display_data"
        }
      ],
      "source": [
        "model = ARIMA(df['is_bad_rate_scaled'], order=(2,1,2))\n",
        "results = model.fit()\n",
        "plt.plot(df['is_bad_rate_scaled'])\n",
        "plt.plot(results.fittedvalues, color='red')"
      ]
    },
    {
      "cell_type": "markdown",
      "id": "c1776938",
      "metadata": {
        "id": "c1776938"
      },
      "source": [
        "предскажем значение доли is_bad для следующего месяца"
      ]
    },
    {
      "cell_type": "code",
      "execution_count": null,
      "id": "b7b4712a",
      "metadata": {
        "id": "b7b4712a",
        "outputId": "690a97cb-2c6a-4803-f269-76b7de465f85"
      },
      "outputs": [
        {
          "data": {
            "text/plain": [
              "array([[0.06122563]])"
            ]
          },
          "execution_count": 93,
          "metadata": {},
          "output_type": "execute_result"
        }
      ],
      "source": [
        "scaler.inverse_transform(np.array(results.forecast()[6]).reshape(-1, 1))"
      ]
    },
    {
      "cell_type": "code",
      "execution_count": null,
      "id": "24ff3613",
      "metadata": {
        "id": "24ff3613"
      },
      "outputs": [],
      "source": [
        "predictet_ts = results.fittedvalues\n",
        "predictet_ts[6] = scaler.inverse_transform(np.array(results.forecast()[6]).reshape(-1, 1))"
      ]
    },
    {
      "cell_type": "code",
      "execution_count": null,
      "id": "fd06f59e",
      "metadata": {
        "id": "fd06f59e",
        "outputId": "36045d7f-3175-429a-e513-a14c037a555a"
      },
      "outputs": [
        {
          "data": {
            "text/plain": [
              "[<matplotlib.lines.Line2D at 0x130115e80>]"
            ]
          },
          "execution_count": 95,
          "metadata": {},
          "output_type": "execute_result"
        },
        {
          "data": {
            "image/png": "[encoded data removed]",
            "text/plain": [
              "<Figure size 432x288 with 1 Axes>"
            ]
          },
          "metadata": {
            "needs_background": "light"
          },
          "output_type": "display_data"
        }
      ],
      "source": [
        "plt.plot(predictet_ts, color='red')\n",
        "plt.plot(df['is_bad_rate_scaled'])"
      ]
    },
    {
      "cell_type": "code",
      "execution_count": null,
      "id": "8de89443",
      "metadata": {
        "id": "8de89443",
        "outputId": "4c053d5f-e935-400f-e0ec-66ada33f1e3c"
      },
      "outputs": [
        {
          "data": {
            "text/plain": [
              "array([[0.06122563]])"
            ]
          },
          "execution_count": 96,
          "metadata": {},
          "output_type": "execute_result"
        }
      ],
      "source": [
        "predictet_ts[6]"
      ]
    },
    {
      "cell_type": "markdown",
      "id": "03d51c62",
      "metadata": {
        "id": "03d51c62"
      },
      "source": [
        "5 точек это слишком мало для применения сложных статистических моеделй, по этому я не приобразовывал ряд и взял модель ARIMA.\n",
        "\n",
        "Даже в условии маленького количества данных она справилась неплохо"
      ]
    },
    {
      "cell_type": "markdown",
      "id": "7090f02f",
      "metadata": {
        "id": "7090f02f"
      },
      "source": [
        "### 7) \n",
        "- Нужно посчитать ошибка какого типа нам стоит дороже чтоб решить какую метрику все же стоит оптимизировать и если нет однозначности то разработать свою метрику учитывая теоретические расход/прибыль бизнеса \n",
        "\n",
        "\n",
        "- Нужно больше экспериментировать с случайным лесом сбалансировав перед этим данные, и перебрав разные критерии ограничения леса и его деревьев \n",
        "\n",
        "\n",
        "-  Попробывать обучать модели не на топ 11 признаков а на датасете уменьшенной (с помощью алгоритмов ML) размерности \n",
        "\n",
        "\n",
        "- Надо добавить качественный признак некой доверенности клиента, первый раз ли он берет кредит или он уже брал и возвращал. И параметр сколько кредитов он вернул. Можно назвать это кредитной историей\n",
        "\n",
        "\n",
        "- По распределениямт было видно что чаще не возвращают кредиты те кто брал их в первый раз.\n",
        "\n",
        "\n",
        "- Можно больше времени уделить перебору гиперпараметров, для лучшей настройки модели. Особенно с порогом вероятности при которой обьект относится к классу (так сможем регулировать баланс FP / FN)\n",
        "\n",
        "\n",
        "- Нужно использовать машину по мощнее для того чтоб применять более комплексные алгоритмы понижения размерности, так как в ходе анализа стало очевиджно что понижать размерность точно надо.\n",
        "\n",
        "\n",
        "- Попробывать все же сбалансировать данные и пообучать модели на таком датасете\n",
        "\n",
        "\n",
        "- Для построения моделей можно попробывать использовать новый алгоритм AutoML - FEDOT, особено хорошо он справоляется с решением задачи предсказания временных рядов."
      ]
    },
    {
      "cell_type": "code",
      "execution_count": null,
      "id": "47cd1681",
      "metadata": {
        "id": "47cd1681"
      },
      "outputs": [],
      "source": []
    }
  ],
  "metadata": {
    "kernelspec": {
      "display_name": "Python 3 (ipykernel)",
      "language": "python",
      "name": "python3"
    },
    "language_info": {
      "codemirror_mode": {
        "name": "ipython",
        "version": 3
      },
      "file_extension": ".py",
      "mimetype": "text/x-python",
      "name": "python",
      "nbconvert_exporter": "python",
      "pygments_lexer": "ipython3",
      "version": "3.9.12"
    },
    "colab": {
      "provenance": []
    }
  },
  "nbformat": 4,
  "nbformat_minor": 5
}